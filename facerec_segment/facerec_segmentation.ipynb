{
 "cells": [
  {
   "cell_type": "code",
   "execution_count": 132,
   "metadata": {},
   "outputs": [],
   "source": [
    "import os \n",
    "import json\n",
    "import pickle\n",
    "import datetime\n",
    "\n",
    "import pandas as pd\n",
    "from pprint import pprint\n",
    "from bisect import bisect_left as find_prev\n",
    "import matplotlib.pyplot as plt\n",
    "\n",
    "import xml.etree.ElementTree as xml\n",
    "\n",
    "strptime = datetime.datetime.strptime"
   ]
  },
  {
   "cell_type": "code",
   "execution_count": 69,
   "metadata": {},
   "outputs": [
    {
     "data": {
      "text/plain": [
       "{'175': '5531550228324592939.mp4',\n",
       " '176': '5534228999422914578.mp4',\n",
       " '177': '5539381671692122744.mp4',\n",
       " '178': '5542003749222140011.mp4',\n",
       " '179': '5544574287152993687.mp4',\n",
       " '180': '5544620672795594434.mp4',\n",
       " '181': '5547193787702629969.mp4',\n",
       " '182': '5549784941472309008.mp4',\n",
       " '183': '5552368364300855101.mp4',\n",
       " '184': '5555325449284154780.mp4',\n",
       " '185': '5555360238519252381.mp4'}"
      ]
     },
     "execution_count": 69,
     "metadata": {},
     "output_type": "execute_result"
    }
   ],
   "source": [
    "episodes_numbers = list(map(str, range(175, 185+1)))\n",
    "videos_data      = xml.parse('eastenders.collection.xml').getroot().findall(\"./VideoFile\")\n",
    "\n",
    "episodes_filenames = {v.find('id').text : v.find('filename').text\n",
    "                      for v in videos_data\n",
    "                      if v.find('id').text in episodes_numbers}\n",
    "episodes_filenames"
   ]
  },
  {
   "cell_type": "code",
   "execution_count": 118,
   "metadata": {},
   "outputs": [],
   "source": [
    "shots_starts = {}\n",
    "shots_ends = {}\n",
    "shots_ids = {}\n",
    "\n",
    "for line in open('eastenders.masterShotReferenceTable.txt', 'r'):\n",
    "    line = line.strip()\n",
    "    if not line: continue\n",
    "    file = line.split()[0].strip()\n",
    "    if file in episodes_numbers:\n",
    "        file = episodes_filenames[file]\n",
    "        if file not in shots_starts: \n",
    "            shots_starts[file] = []\n",
    "            shots_ends[file] = []\n",
    "            shots_ids[file] = []\n",
    "        _, shot_id, start, end = line.split()\n",
    "        ref = datetime.datetime(1900, 1, 1)\n",
    "        start = (strptime(start[1:12], '%H:%M:%S:%f') - ref).total_seconds()\n",
    "        end   = (strptime(end[1:12], '%H:%M:%S:%f') - ref).total_seconds()\n",
    "\n",
    "        shots_starts[file].append(start)\n",
    "        shots_ends[file].append(end)\n",
    "        shots_ids[file].append(int(shot_id.split('_')[1]))"
   ]
  },
  {
   "cell_type": "code",
   "execution_count": 71,
   "metadata": {},
   "outputs": [
    {
     "data": {
      "text/plain": [
       "([0.0, 0.04, 0.1], [0.03, 0.09, 1.04], ['shot185_1', 'shot185_2', 'shot185_3'])"
      ]
     },
     "execution_count": 71,
     "metadata": {},
     "output_type": "execute_result"
    }
   ],
   "source": [
    "shots_starts['5555360238519252381.mp4'][:3], shots_ends['5555360238519252381.mp4'][:3], shots_ids['5555360238519252381.mp4'][:3]"
   ]
  },
  {
   "cell_type": "code",
   "execution_count": 72,
   "metadata": {},
   "outputs": [],
   "source": [
    "data = []\n",
    "for filename in os.listdir('../facerec_out/2.challenge_people'):\n",
    "    j = json.load(open('../facerec_out/2.challenge_people/'+filename, 'r'))\n",
    "    for rec in j:\n",
    "        d = {}\n",
    "        d['file'] = filename.replace('json', 'mp4')\n",
    "        d['confidence'] = rec['confidence']\n",
    "        d['frame'] = rec['frame']\n",
    "        d['second'] = rec['npt']\n",
    "        d['character'] = rec['name']\n",
    "        data.append(d)"
   ]
  },
  {
   "cell_type": "code",
   "execution_count": 73,
   "metadata": {},
   "outputs": [
    {
     "data": {
      "text/html": [
       "<div>\n",
       "<style scoped>\n",
       "    .dataframe tbody tr th:only-of-type {\n",
       "        vertical-align: middle;\n",
       "    }\n",
       "\n",
       "    .dataframe tbody tr th {\n",
       "        vertical-align: top;\n",
       "    }\n",
       "\n",
       "    .dataframe thead th {\n",
       "        text-align: right;\n",
       "    }\n",
       "</style>\n",
       "<table border=\"1\" class=\"dataframe\">\n",
       "  <thead>\n",
       "    <tr style=\"text-align: right;\">\n",
       "      <th></th>\n",
       "      <th>file</th>\n",
       "      <th>confidence</th>\n",
       "      <th>frame</th>\n",
       "      <th>second</th>\n",
       "      <th>character</th>\n",
       "    </tr>\n",
       "  </thead>\n",
       "  <tbody>\n",
       "    <tr>\n",
       "      <td>0</td>\n",
       "      <td>5555360238519252381.mp4</td>\n",
       "      <td>0.647979</td>\n",
       "      <td>1525</td>\n",
       "      <td>61.0</td>\n",
       "      <td>Stacey Branning</td>\n",
       "    </tr>\n",
       "    <tr>\n",
       "      <td>1</td>\n",
       "      <td>5555360238519252381.mp4</td>\n",
       "      <td>0.718986</td>\n",
       "      <td>1600</td>\n",
       "      <td>64.0</td>\n",
       "      <td>Stacey Branning</td>\n",
       "    </tr>\n",
       "    <tr>\n",
       "      <td>2</td>\n",
       "      <td>5555360238519252381.mp4</td>\n",
       "      <td>0.444640</td>\n",
       "      <td>1650</td>\n",
       "      <td>66.0</td>\n",
       "      <td>Ryan Malloy</td>\n",
       "    </tr>\n",
       "    <tr>\n",
       "      <td>3</td>\n",
       "      <td>5555360238519252381.mp4</td>\n",
       "      <td>0.417089</td>\n",
       "      <td>1675</td>\n",
       "      <td>67.0</td>\n",
       "      <td>Janine Malloy</td>\n",
       "    </tr>\n",
       "    <tr>\n",
       "      <td>4</td>\n",
       "      <td>5555360238519252381.mp4</td>\n",
       "      <td>0.497558</td>\n",
       "      <td>2850</td>\n",
       "      <td>114.0</td>\n",
       "      <td>Stacey Branning</td>\n",
       "    </tr>\n",
       "  </tbody>\n",
       "</table>\n",
       "</div>"
      ],
      "text/plain": [
       "                      file  confidence  frame  second        character\n",
       "0  5555360238519252381.mp4    0.647979   1525    61.0  Stacey Branning\n",
       "1  5555360238519252381.mp4    0.718986   1600    64.0  Stacey Branning\n",
       "2  5555360238519252381.mp4    0.444640   1650    66.0      Ryan Malloy\n",
       "3  5555360238519252381.mp4    0.417089   1675    67.0    Janine Malloy\n",
       "4  5555360238519252381.mp4    0.497558   2850   114.0  Stacey Branning"
      ]
     },
     "execution_count": 73,
     "metadata": {},
     "output_type": "execute_result"
    }
   ],
   "source": [
    "df = pd.DataFrame(data)\n",
    "df.head()"
   ]
  },
  {
   "cell_type": "code",
   "execution_count": 74,
   "metadata": {},
   "outputs": [
    {
     "data": {
      "text/html": [
       "<div>\n",
       "<style scoped>\n",
       "    .dataframe tbody tr th:only-of-type {\n",
       "        vertical-align: middle;\n",
       "    }\n",
       "\n",
       "    .dataframe tbody tr th {\n",
       "        vertical-align: top;\n",
       "    }\n",
       "\n",
       "    .dataframe thead th {\n",
       "        text-align: right;\n",
       "    }\n",
       "</style>\n",
       "<table border=\"1\" class=\"dataframe\">\n",
       "  <thead>\n",
       "    <tr style=\"text-align: right;\">\n",
       "      <th></th>\n",
       "      <th>confidence</th>\n",
       "      <th>frame</th>\n",
       "      <th>second</th>\n",
       "    </tr>\n",
       "  </thead>\n",
       "  <tbody>\n",
       "    <tr>\n",
       "      <td>count</td>\n",
       "      <td>63541.000000</td>\n",
       "      <td>63541.000000</td>\n",
       "      <td>63541.000000</td>\n",
       "    </tr>\n",
       "    <tr>\n",
       "      <td>mean</td>\n",
       "      <td>0.532596</td>\n",
       "      <td>83918.442816</td>\n",
       "      <td>3356.737713</td>\n",
       "    </tr>\n",
       "    <tr>\n",
       "      <td>std</td>\n",
       "      <td>0.128893</td>\n",
       "      <td>49404.893461</td>\n",
       "      <td>1976.195738</td>\n",
       "    </tr>\n",
       "    <tr>\n",
       "      <td>min</td>\n",
       "      <td>0.333333</td>\n",
       "      <td>75.000000</td>\n",
       "      <td>3.000000</td>\n",
       "    </tr>\n",
       "    <tr>\n",
       "      <td>25%</td>\n",
       "      <td>0.436670</td>\n",
       "      <td>39425.000000</td>\n",
       "      <td>1577.000000</td>\n",
       "    </tr>\n",
       "    <tr>\n",
       "      <td>50%</td>\n",
       "      <td>0.503420</td>\n",
       "      <td>84300.000000</td>\n",
       "      <td>3372.000000</td>\n",
       "    </tr>\n",
       "    <tr>\n",
       "      <td>75%</td>\n",
       "      <td>0.593652</td>\n",
       "      <td>123700.000000</td>\n",
       "      <td>4948.000000</td>\n",
       "    </tr>\n",
       "    <tr>\n",
       "      <td>max</td>\n",
       "      <td>0.943031</td>\n",
       "      <td>179500.000000</td>\n",
       "      <td>7180.000000</td>\n",
       "    </tr>\n",
       "  </tbody>\n",
       "</table>\n",
       "</div>"
      ],
      "text/plain": [
       "         confidence          frame        second\n",
       "count  63541.000000   63541.000000  63541.000000\n",
       "mean       0.532596   83918.442816   3356.737713\n",
       "std        0.128893   49404.893461   1976.195738\n",
       "min        0.333333      75.000000      3.000000\n",
       "25%        0.436670   39425.000000   1577.000000\n",
       "50%        0.503420   84300.000000   3372.000000\n",
       "75%        0.593652  123700.000000   4948.000000\n",
       "max        0.943031  179500.000000   7180.000000"
      ]
     },
     "execution_count": 74,
     "metadata": {},
     "output_type": "execute_result"
    }
   ],
   "source": [
    "df.describe()"
   ]
  },
  {
   "cell_type": "code",
   "execution_count": 197,
   "metadata": {},
   "outputs": [],
   "source": [
    "df_cut = df[df.confidence > 0.6]"
   ]
  },
  {
   "cell_type": "code",
   "execution_count": 198,
   "metadata": {},
   "outputs": [
    {
     "data": {
      "text/html": [
       "<div>\n",
       "<style scoped>\n",
       "    .dataframe tbody tr th:only-of-type {\n",
       "        vertical-align: middle;\n",
       "    }\n",
       "\n",
       "    .dataframe tbody tr th {\n",
       "        vertical-align: top;\n",
       "    }\n",
       "\n",
       "    .dataframe thead th {\n",
       "        text-align: right;\n",
       "    }\n",
       "</style>\n",
       "<table border=\"1\" class=\"dataframe\">\n",
       "  <thead>\n",
       "    <tr style=\"text-align: right;\">\n",
       "      <th></th>\n",
       "      <th>confidence</th>\n",
       "      <th>frame</th>\n",
       "      <th>second</th>\n",
       "    </tr>\n",
       "  </thead>\n",
       "  <tbody>\n",
       "    <tr>\n",
       "      <td>count</td>\n",
       "      <td>15164.000000</td>\n",
       "      <td>15164.000000</td>\n",
       "      <td>15164.000000</td>\n",
       "    </tr>\n",
       "    <tr>\n",
       "      <td>mean</td>\n",
       "      <td>0.722718</td>\n",
       "      <td>84728.348391</td>\n",
       "      <td>3389.133936</td>\n",
       "    </tr>\n",
       "    <tr>\n",
       "      <td>std</td>\n",
       "      <td>0.093028</td>\n",
       "      <td>49935.467013</td>\n",
       "      <td>1997.418681</td>\n",
       "    </tr>\n",
       "    <tr>\n",
       "      <td>min</td>\n",
       "      <td>0.600004</td>\n",
       "      <td>225.000000</td>\n",
       "      <td>9.000000</td>\n",
       "    </tr>\n",
       "    <tr>\n",
       "      <td>25%</td>\n",
       "      <td>0.639010</td>\n",
       "      <td>39193.750000</td>\n",
       "      <td>1567.750000</td>\n",
       "    </tr>\n",
       "    <tr>\n",
       "      <td>50%</td>\n",
       "      <td>0.700766</td>\n",
       "      <td>85512.500000</td>\n",
       "      <td>3420.500000</td>\n",
       "    </tr>\n",
       "    <tr>\n",
       "      <td>75%</td>\n",
       "      <td>0.802882</td>\n",
       "      <td>126900.000000</td>\n",
       "      <td>5076.000000</td>\n",
       "    </tr>\n",
       "    <tr>\n",
       "      <td>max</td>\n",
       "      <td>0.943031</td>\n",
       "      <td>178675.000000</td>\n",
       "      <td>7147.000000</td>\n",
       "    </tr>\n",
       "  </tbody>\n",
       "</table>\n",
       "</div>"
      ],
      "text/plain": [
       "         confidence          frame        second\n",
       "count  15164.000000   15164.000000  15164.000000\n",
       "mean       0.722718   84728.348391   3389.133936\n",
       "std        0.093028   49935.467013   1997.418681\n",
       "min        0.600004     225.000000      9.000000\n",
       "25%        0.639010   39193.750000   1567.750000\n",
       "50%        0.700766   85512.500000   3420.500000\n",
       "75%        0.802882  126900.000000   5076.000000\n",
       "max        0.943031  178675.000000   7147.000000"
      ]
     },
     "execution_count": 198,
     "metadata": {},
     "output_type": "execute_result"
    }
   ],
   "source": [
    "df_cut.describe()"
   ]
  },
  {
   "cell_type": "code",
   "execution_count": 199,
   "metadata": {},
   "outputs": [
    {
     "data": {
      "text/plain": [
       "array(['Stacey Branning', 'Ryan Malloy', 'Janine Malloy'], dtype=object)"
      ]
     },
     "execution_count": 199,
     "metadata": {},
     "output_type": "execute_result"
    }
   ],
   "source": [
    "df_cut.character.unique()"
   ]
  },
  {
   "cell_type": "code",
   "execution_count": 200,
   "metadata": {},
   "outputs": [
    {
     "data": {
      "image/png": "[encoded data removed]",
      "text/plain": [
       "<Figure size 1800x504 with 1 Axes>"
      ]
     },
     "metadata": {
      "needs_background": "light"
     },
     "output_type": "display_data"
    }
   ],
   "source": [
    "appearances = {'Stacey Branning':[], 'Ryan Malloy':[], 'Janine Malloy':[]}\n",
    "for i, e in df_cut[df_cut.file == '5555360238519252381.mp4'].iterrows():\n",
    "    if e['frame'] < 10000:\n",
    "        appearances[e['character']].append(e['frame'])\n",
    "\n",
    "fig, ax = plt.subplots(figsize=(25,7))\n",
    "\n",
    "ax.scatter(appearances['Stacey Branning'], [1]*len(appearances['Stacey Branning']), marker='.',\n",
    "        color='green',  label='Stacy')\n",
    "ax.scatter(appearances['Ryan Malloy'], [2]*len(appearances['Ryan Malloy']),marker='.',\n",
    "        color='blue',  label='Ryan')\n",
    "ax.scatter(appearances['Janine Malloy'], [3]*len(appearances['Janine Malloy']), marker='.',\n",
    "        color='red', label='Janine')\n",
    "\n",
    "ax.legend()\n",
    "plt.show()"
   ]
  },
  {
   "cell_type": "code",
   "execution_count": 352,
   "metadata": {},
   "outputs": [],
   "source": [
    "cut = 0.7\n",
    "keep = 2\n",
    "add = 2"
   ]
  },
  {
   "cell_type": "code",
   "execution_count": 353,
   "metadata": {},
   "outputs": [],
   "source": [
    "df_cut = df[df.confidence > cut]"
   ]
  },
  {
   "cell_type": "code",
   "execution_count": 354,
   "metadata": {},
   "outputs": [],
   "source": [
    "recs = {f:set() for f in df.file.unique()}\n",
    "for i, e in df_cut.iterrows():\n",
    "    file = e['file']\n",
    "    k = find_prev(shots_starts[file], e['second'])\n",
    "    recs[file].add(k-1)\n",
    "    recs[file].add(k)\n",
    "    recs[file].add(k+1)\n",
    "    \n",
    "    if add == 2: \n",
    "        recs[file].add(k-2)\n",
    "        recs[file].add(k+2)\n",
    "        \n",
    "    # if len(recs[file]) < 4:\n",
    "    #    print(file, e['second'], k, recs[file])"
   ]
  },
  {
   "cell_type": "code",
   "execution_count": 355,
   "metadata": {},
   "outputs": [],
   "source": [
    "segs = {}\n",
    "for file in recs:\n",
    "    seg_start = 0\n",
    "    segs[file] = []\n",
    "    sorted_ids = list(recs[file])\n",
    "    if seg_start == 0:\n",
    "        seg_start = sorted_ids[0]\n",
    "        cur = sorted_ids[0]\n",
    "    \n",
    "    for i, e in enumerate(sorted_ids[1:]):\n",
    "        if e == cur + 1:\n",
    "            cur += 1\n",
    "        elif i == len(recs) - 1 and e == cur + 1:\n",
    "            segs[file].append((seg_start, e))\n",
    "        else:\n",
    "            if cur - seg_start > (0 if keep == 'all' else (keep * 2 + 1)):\n",
    "                segs[file].append((seg_start, cur))\n",
    "            seg_start = e\n",
    "            cur = e"
   ]
  },
  {
   "cell_type": "code",
   "execution_count": 356,
   "metadata": {},
   "outputs": [
    {
     "name": "stdout",
     "output_type": "stream",
     "text": [
      "416\n"
     ]
    }
   ],
   "source": [
    "# if I keep everything\n",
    "s = \"\"\"5555360238519252381.mp4 100\n",
    "5531550228324592939.mp4 128\n",
    "5544620672795594434.mp4 31\n",
    "5547193787702629969.mp4 96\n",
    "5549784941472309008.mp4 100\n",
    "5552368364300855101.mp4 108\n",
    "5555325449284154780.mp4 89\n",
    "5534228999422914578.mp4 129\n",
    "5542003749222140011.mp4 87\n",
    "5544574287152993687.mp4 100\n",
    "5539381671692122744.mp4 117\"\"\"\n",
    "# print(s)\n",
    "print(sum([len(segs[ep]) for ep in segs]))"
   ]
  },
  {
   "cell_type": "code",
   "execution_count": 357,
   "metadata": {},
   "outputs": [
    {
     "name": "stdout",
     "output_type": "stream",
     "text": [
      "5555360238519252381.mp4\n",
      "5531550228324592939.mp4\n",
      "5544620672795594434.mp4\n",
      "5547193787702629969.mp4\n",
      "5549784941472309008.mp4\n",
      "5552368364300855101.mp4\n",
      "5555325449284154780.mp4\n",
      "5534228999422914578.mp4\n",
      "5542003749222140011.mp4\n",
      "5544574287152993687.mp4\n",
      "5539381671692122744.mp4\n"
     ]
    }
   ],
   "source": [
    "timed_segs = {}\n",
    "for ep in segs:\n",
    "    timed_segs[ep] = []\n",
    "    print(ep)\n",
    "    for s, e in segs[ep]:\n",
    "        try:\n",
    "            timed_segs[ep].append((shots_starts[ep][s], shots_ends[ep][e]))\n",
    "        except Exception as ex:\n",
    "            print('@', ep, s, e)\n",
    "            print(str(ex))"
   ]
  },
  {
   "cell_type": "code",
   "execution_count": 358,
   "metadata": {},
   "outputs": [],
   "source": [
    "pickle.dump(timed_segs, open(f'segs/segments_add{add}_keep{keep}_cut{cut}.pickle', 'wb'))"
   ]
  },
  {
   "cell_type": "code",
   "execution_count": null,
   "metadata": {},
   "outputs": [],
   "source": []
  }
 ],
 "metadata": {
  "kernelspec": {
   "display_name": "Python 3",
   "language": "python",
   "name": "python3"
  },
  "language_info": {
   "codemirror_mode": {
    "name": "ipython",
    "version": 3
   },
   "file_extension": ".py",
   "mimetype": "text/x-python",
   "name": "python",
   "nbconvert_exporter": "python",
   "pygments_lexer": "ipython3",
   "version": "3.7.7"
  }
 },
 "nbformat": 4,
 "nbformat_minor": 2
}
