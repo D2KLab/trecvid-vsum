{
 "cells": [
  {
   "cell_type": "code",
   "execution_count": 1,
   "metadata": {},
   "outputs": [],
   "source": [
    "import os \n",
    "import json\n",
    "import pickle\n",
    "import datetime\n",
    "from sklearn.preprocessing import MinMaxScaler,StandardScaler\n",
    "from sklearn.preprocessing import Normalizer\n",
    "\n",
    "import pandas as pd\n",
    "from pprint import pprint\n",
    "from bisect import bisect_left as find_prev\n",
    "import matplotlib.pyplot as plt\n",
    "\n",
    "import xml.etree.ElementTree as xml\n",
    "\n",
    "strptime = datetime.datetime.strptime\n",
    "pd.set_option('display.max_colwidth', None)\n",
    "pd.set_option('display.max_columns', None)"
   ]
  },
  {
   "cell_type": "code",
   "execution_count": null,
   "metadata": {},
   "outputs": [],
   "source": []
  },
  {
   "cell_type": "code",
   "execution_count": 2,
   "metadata": {},
   "outputs": [
    {
     "data": {
      "text/plain": [
       "{'60': '5245830105934359183.mp4',\n",
       " '61': '5248439298566680341.mp4',\n",
       " '62': '5251033029316736209.mp4',\n",
       " '63': '5253646087419594905.mp4',\n",
       " '64': '5256228221757951173.mp4',\n",
       " '65': '5258818087037440299.mp4',\n",
       " '66': '5264050645694159353.mp4',\n",
       " '67': '5266645664934403562.mp4',\n",
       " '68': '5269245838135402929.mp4',\n",
       " '69': '5271844722846213628.mp4',\n",
       " '70': '5274434588125702436.mp4',\n",
       " '79': '5300410550331962313.mp4',\n",
       " '80': '5300433743159556513.mp4',\n",
       " '81': '5303026185415228226.mp4',\n",
       " '82': '5305617339184877785.mp4',\n",
       " '83': '5308226531817199474.mp4',\n",
       " '84': '5310822839547632763.mp4',\n",
       " '85': '5313398531435045858.mp4',\n",
       " '86': '5316007724067368375.mp4',\n",
       " '87': '5318609185758554501.mp4',\n",
       " '88': '5321170704253895214.mp4',\n",
       " '89': '5323778608396028180.mp4'}"
      ]
     },
     "execution_count": 2,
     "metadata": {},
     "output_type": "execute_result"
    }
   ],
   "source": [
    "episodes_numbers = list(map(str, range(60, 70+1))) + list(map(str, range(79, 89+1)))\n",
    "videos_data      = xml.parse('eastenders.collection.xml').getroot().findall(\"./VideoFile\")\n",
    "\n",
    "episodes_filenames = {v.find('id').text : v.find('filename').text\n",
    "                      for v in videos_data\n",
    "                      if v.find('id').text in episodes_numbers}\n",
    "episodes_filenames"
   ]
  },
  {
   "cell_type": "code",
   "execution_count": 3,
   "metadata": {},
   "outputs": [],
   "source": [
    "shots_starts = {}\n",
    "shots_ends = {}\n",
    "shots_ids = {}\n",
    "\n",
    "for line in open('eastenders.masterShotReferenceTable.txt', 'r'):\n",
    "    line = line.strip()\n",
    "    if not line: continue\n",
    "    episode_number = line.split()[0].strip()\n",
    "    if episode_number in episodes_numbers:\n",
    "        file = episodes_filenames[episode_number]\n",
    "        if file not in shots_starts: \n",
    "            shots_starts[file] = []\n",
    "            shots_ends[file] = []\n",
    "            shots_ids[file] = []\n",
    "        _, shot_id, start, end = line.split()\n",
    "        \n",
    "        shot_number = int(shot_id.split('_')[1])\n",
    "        if (int(episode_number) < 71 and shot_number > 2040) or (int(episode_number) > 78 and shot_number > 2036):\n",
    "            continue\n",
    "        ref = datetime.datetime(1900, 1, 1)\n",
    "        start = (strptime(start[1:12], '%H:%M:%S:%f') - ref).total_seconds()\n",
    "        end   = (strptime(end[1:12], '%H:%M:%S:%f') - ref).total_seconds()\n",
    "\n",
    "        shots_starts[file].append(start)\n",
    "        shots_ends[file].append(end)\n",
    "        shots_ids[file].append(int(shot_id.split('_')[1]))"
   ]
  },
  {
   "cell_type": "code",
   "execution_count": 4,
   "metadata": {},
   "outputs": [
    {
     "data": {
      "text/plain": [
       "dict_keys(['5245830105934359183.mp4', '5248439298566680341.mp4', '5251033029316736209.mp4', '5253646087419594905.mp4', '5256228221757951173.mp4', '5258818087037440299.mp4', '5264050645694159353.mp4', '5266645664934403562.mp4', '5269245838135402929.mp4', '5271844722846213628.mp4', '5274434588125702436.mp4', '5300410550331962313.mp4', '5300433743159556513.mp4', '5303026185415228226.mp4', '5305617339184877785.mp4', '5308226531817199474.mp4', '5310822839547632763.mp4', '5313398531435045858.mp4', '5316007724067368375.mp4', '5318609185758554501.mp4', '5321170704253895214.mp4', '5323778608396028180.mp4'])"
      ]
     },
     "execution_count": 4,
     "metadata": {},
     "output_type": "execute_result"
    }
   ],
   "source": [
    "shots_ids.keys()"
   ]
  },
  {
   "cell_type": "code",
   "execution_count": 5,
   "metadata": {},
   "outputs": [
    {
     "data": {
      "text/plain": [
       "([0.0, 20.22, 23.21], [20.21, 23.2, 25.14], [1, 2, 3])"
      ]
     },
     "execution_count": 5,
     "metadata": {},
     "output_type": "execute_result"
    }
   ],
   "source": [
    "shots_starts['5245830105934359183.mp4'][:3], shots_ends['5245830105934359183.mp4'][:3], shots_ids['5245830105934359183.mp4'][:3]"
   ]
  },
  {
   "cell_type": "code",
   "execution_count": 6,
   "metadata": {},
   "outputs": [
    {
     "data": {
      "text/plain": [
       "[2031, 2032, 2033, 2034, 2035, 2036, 2037, 2038, 2039, 2040]"
      ]
     },
     "execution_count": 6,
     "metadata": {},
     "output_type": "execute_result"
    }
   ],
   "source": [
    "shots_ids['5245830105934359183.mp4'][-10:]"
   ]
  },
  {
   "cell_type": "code",
   "execution_count": 109,
   "metadata": {},
   "outputs": [],
   "source": [
    "j = json.load(open('../facerec/1.all_people/5256228221757951173.json', 'r'))"
   ]
  },
  {
   "cell_type": "code",
   "execution_count": 110,
   "metadata": {},
   "outputs": [
    {
     "data": {
      "text/plain": [
       "dict_keys(['locator', 'media', 'status', 'project', 'tracks', 'feat_clusters'])"
      ]
     },
     "execution_count": 110,
     "metadata": {},
     "output_type": "execute_result"
    }
   ],
   "source": [
    "j.keys()"
   ]
  },
  {
   "cell_type": "code",
   "execution_count": 111,
   "metadata": {},
   "outputs": [
    {
     "data": {
      "text/plain": [
       "'/data/eastenders/5256228221757951173.mp4'"
      ]
     },
     "execution_count": 111,
     "metadata": {},
     "output_type": "execute_result"
    }
   ],
   "source": [
    "j['locator']"
   ]
  },
  {
   "cell_type": "code",
   "execution_count": 5,
   "metadata": {},
   "outputs": [
    {
     "ename": "NameError",
     "evalue": "name 'j' is not defined",
     "output_type": "error",
     "traceback": [
      "\u001b[0;31m---------------------------------------------------------------------------\u001b[0m",
      "\u001b[0;31mNameError\u001b[0m                                 Traceback (most recent call last)",
      "\u001b[0;32m<ipython-input-5-7546d0cb0cdd>\u001b[0m in \u001b[0;36m<module>\u001b[0;34m\u001b[0m\n\u001b[0;32m----> 1\u001b[0;31m \u001b[0mj\u001b[0m\u001b[0;34m[\u001b[0m\u001b[0;34m'tracks'\u001b[0m\u001b[0;34m]\u001b[0m\u001b[0;34m\u001b[0m\u001b[0;34m\u001b[0m\u001b[0m\n\u001b[0m",
      "\u001b[0;31mNameError\u001b[0m: name 'j' is not defined"
     ]
    }
   ],
   "source": [
    "j['tracks']"
   ]
  },
  {
   "cell_type": "code",
   "execution_count": 11,
   "metadata": {},
   "outputs": [
    {
     "data": {
      "text/plain": [
       "6"
      ]
     },
     "execution_count": 11,
     "metadata": {},
     "output_type": "execute_result"
    }
   ],
   "source": [
    "len(j)"
   ]
  },
  {
   "cell_type": "code",
   "execution_count": 6,
   "metadata": {},
   "outputs": [],
   "source": [
    "data = []\n",
    "for filename in os.listdir('../facerec/2.only_main/'):\n",
    "    j = json.load(open('../facerec/2.only_main/'+filename, 'r'))\n",
    "    for rec in j:\n",
    "        for track in j['tracks']:\n",
    "            d = {}\n",
    "            d['file'] = str(filename.replace('json', 'mp4'))\n",
    "            d['confidence'] = float(track['confidence'])\n",
    "            d['start_second'] = float(track['start_npt'])\n",
    "            d['end_second'] = float(track['end_npt'])\n",
    "            d['start_frame'] = int(track['start_frame'])\n",
    "            d['end_frame'] = int(track['end_frame'])\n",
    "            d['character'] = str(track['name'])\n",
    "            data.append(d)"
   ]
  },
  {
   "cell_type": "code",
   "execution_count": 7,
   "metadata": {
    "scrolled": true
   },
   "outputs": [
    {
     "data": {
      "text/html": [
       "<div>\n",
       "<style scoped>\n",
       "    .dataframe tbody tr th:only-of-type {\n",
       "        vertical-align: middle;\n",
       "    }\n",
       "\n",
       "    .dataframe tbody tr th {\n",
       "        vertical-align: top;\n",
       "    }\n",
       "\n",
       "    .dataframe thead th {\n",
       "        text-align: right;\n",
       "    }\n",
       "</style>\n",
       "<table border=\"1\" class=\"dataframe\">\n",
       "  <thead>\n",
       "    <tr style=\"text-align: right;\">\n",
       "      <th></th>\n",
       "      <th>file</th>\n",
       "      <th>confidence</th>\n",
       "      <th>start_second</th>\n",
       "      <th>end_second</th>\n",
       "      <th>start_frame</th>\n",
       "      <th>end_frame</th>\n",
       "      <th>character</th>\n",
       "    </tr>\n",
       "  </thead>\n",
       "  <tbody>\n",
       "    <tr>\n",
       "      <th>0</th>\n",
       "      <td>5321170704253895214.mp4</td>\n",
       "      <td>0.487189</td>\n",
       "      <td>76.0</td>\n",
       "      <td>78.0</td>\n",
       "      <td>1900</td>\n",
       "      <td>1950</td>\n",
       "      <td>Peggy Mitchell</td>\n",
       "    </tr>\n",
       "    <tr>\n",
       "      <th>1</th>\n",
       "      <td>5321170704253895214.mp4</td>\n",
       "      <td>0.589437</td>\n",
       "      <td>165.0</td>\n",
       "      <td>166.0</td>\n",
       "      <td>4125</td>\n",
       "      <td>4150</td>\n",
       "      <td>Peggy Mitchell</td>\n",
       "    </tr>\n",
       "    <tr>\n",
       "      <th>2</th>\n",
       "      <td>5321170704253895214.mp4</td>\n",
       "      <td>0.524413</td>\n",
       "      <td>169.0</td>\n",
       "      <td>171.0</td>\n",
       "      <td>4225</td>\n",
       "      <td>4275</td>\n",
       "      <td>Peggy Mitchell</td>\n",
       "    </tr>\n",
       "    <tr>\n",
       "      <th>3</th>\n",
       "      <td>5321170704253895214.mp4</td>\n",
       "      <td>0.431605</td>\n",
       "      <td>317.0</td>\n",
       "      <td>320.0</td>\n",
       "      <td>7925</td>\n",
       "      <td>8000</td>\n",
       "      <td>Peggy Mitchell</td>\n",
       "    </tr>\n",
       "    <tr>\n",
       "      <th>4</th>\n",
       "      <td>5321170704253895214.mp4</td>\n",
       "      <td>0.587939</td>\n",
       "      <td>583.0</td>\n",
       "      <td>585.0</td>\n",
       "      <td>14575</td>\n",
       "      <td>14625</td>\n",
       "      <td>Peggy Mitchell</td>\n",
       "    </tr>\n",
       "  </tbody>\n",
       "</table>\n",
       "</div>"
      ],
      "text/plain": [
       "                      file  confidence  start_second  end_second  start_frame  \\\n",
       "0  5321170704253895214.mp4    0.487189          76.0        78.0         1900   \n",
       "1  5321170704253895214.mp4    0.589437         165.0       166.0         4125   \n",
       "2  5321170704253895214.mp4    0.524413         169.0       171.0         4225   \n",
       "3  5321170704253895214.mp4    0.431605         317.0       320.0         7925   \n",
       "4  5321170704253895214.mp4    0.587939         583.0       585.0        14575   \n",
       "\n",
       "   end_frame       character  \n",
       "0       1950  Peggy Mitchell  \n",
       "1       4150  Peggy Mitchell  \n",
       "2       4275  Peggy Mitchell  \n",
       "3       8000  Peggy Mitchell  \n",
       "4      14625  Peggy Mitchell  "
      ]
     },
     "execution_count": 7,
     "metadata": {},
     "output_type": "execute_result"
    }
   ],
   "source": [
    "df = pd.DataFrame(data)\n",
    "df.head()"
   ]
  },
  {
   "cell_type": "code",
   "execution_count": 8,
   "metadata": {},
   "outputs": [
    {
     "data": {
      "text/plain": [
       "array(['Peggy Mitchell', 'Tanya Branning', 'Jack Branning',\n",
       "       'Archie Mitchell', 'Max Branning'], dtype=object)"
      ]
     },
     "execution_count": 8,
     "metadata": {},
     "output_type": "execute_result"
    }
   ],
   "source": [
    "df[df.file == '5256228221757951173.mp4'].character.unique()"
   ]
  },
  {
   "cell_type": "code",
   "execution_count": 9,
   "metadata": {},
   "outputs": [],
   "source": [
    "df['file'] = df['file'].astype(str)\n",
    "df['character'] = df['character'].astype(str)\n",
    "df['start_frame'] = df['start_frame'].astype(int)\n",
    "df['end_frame'] = df['end_frame'].astype(int)\n",
    "df['start_second'] = df['start_second'].astype(float)\n",
    "df['end_second'] = df['end_second'].astype(float)\n",
    "df['confidence'] = df['confidence'].astype(float)"
   ]
  },
  {
   "cell_type": "code",
   "execution_count": 10,
   "metadata": {},
   "outputs": [
    {
     "data": {
      "text/html": [
       "<div>\n",
       "<style scoped>\n",
       "    .dataframe tbody tr th:only-of-type {\n",
       "        vertical-align: middle;\n",
       "    }\n",
       "\n",
       "    .dataframe tbody tr th {\n",
       "        vertical-align: top;\n",
       "    }\n",
       "\n",
       "    .dataframe thead th {\n",
       "        text-align: right;\n",
       "    }\n",
       "</style>\n",
       "<table border=\"1\" class=\"dataframe\">\n",
       "  <thead>\n",
       "    <tr style=\"text-align: right;\">\n",
       "      <th></th>\n",
       "      <th>file</th>\n",
       "      <th>confidence</th>\n",
       "      <th>start_second</th>\n",
       "      <th>end_second</th>\n",
       "      <th>start_frame</th>\n",
       "      <th>end_frame</th>\n",
       "      <th>character</th>\n",
       "    </tr>\n",
       "  </thead>\n",
       "  <tbody>\n",
       "    <tr>\n",
       "      <th>0</th>\n",
       "      <td>5321170704253895214.mp4</td>\n",
       "      <td>0.487189</td>\n",
       "      <td>76.0</td>\n",
       "      <td>78.0</td>\n",
       "      <td>1900</td>\n",
       "      <td>1950</td>\n",
       "      <td>Peggy Mitchell</td>\n",
       "    </tr>\n",
       "    <tr>\n",
       "      <th>1</th>\n",
       "      <td>5321170704253895214.mp4</td>\n",
       "      <td>0.589437</td>\n",
       "      <td>165.0</td>\n",
       "      <td>166.0</td>\n",
       "      <td>4125</td>\n",
       "      <td>4150</td>\n",
       "      <td>Peggy Mitchell</td>\n",
       "    </tr>\n",
       "    <tr>\n",
       "      <th>2</th>\n",
       "      <td>5321170704253895214.mp4</td>\n",
       "      <td>0.524413</td>\n",
       "      <td>169.0</td>\n",
       "      <td>171.0</td>\n",
       "      <td>4225</td>\n",
       "      <td>4275</td>\n",
       "      <td>Peggy Mitchell</td>\n",
       "    </tr>\n",
       "    <tr>\n",
       "      <th>3</th>\n",
       "      <td>5321170704253895214.mp4</td>\n",
       "      <td>0.431605</td>\n",
       "      <td>317.0</td>\n",
       "      <td>320.0</td>\n",
       "      <td>7925</td>\n",
       "      <td>8000</td>\n",
       "      <td>Peggy Mitchell</td>\n",
       "    </tr>\n",
       "    <tr>\n",
       "      <th>4</th>\n",
       "      <td>5321170704253895214.mp4</td>\n",
       "      <td>0.587939</td>\n",
       "      <td>583.0</td>\n",
       "      <td>585.0</td>\n",
       "      <td>14575</td>\n",
       "      <td>14625</td>\n",
       "      <td>Peggy Mitchell</td>\n",
       "    </tr>\n",
       "    <tr>\n",
       "      <th>...</th>\n",
       "      <td>...</td>\n",
       "      <td>...</td>\n",
       "      <td>...</td>\n",
       "      <td>...</td>\n",
       "      <td>...</td>\n",
       "      <td>...</td>\n",
       "      <td>...</td>\n",
       "    </tr>\n",
       "    <tr>\n",
       "      <th>39829</th>\n",
       "      <td>5274434588125702436.mp4</td>\n",
       "      <td>0.448474</td>\n",
       "      <td>6047.0</td>\n",
       "      <td>6049.0</td>\n",
       "      <td>151175</td>\n",
       "      <td>151225</td>\n",
       "      <td>Max Branning</td>\n",
       "    </tr>\n",
       "    <tr>\n",
       "      <th>39830</th>\n",
       "      <td>5274434588125702436.mp4</td>\n",
       "      <td>0.604398</td>\n",
       "      <td>6228.0</td>\n",
       "      <td>6232.0</td>\n",
       "      <td>155700</td>\n",
       "      <td>155800</td>\n",
       "      <td>Max Branning</td>\n",
       "    </tr>\n",
       "    <tr>\n",
       "      <th>39831</th>\n",
       "      <td>5274434588125702436.mp4</td>\n",
       "      <td>0.506472</td>\n",
       "      <td>6274.0</td>\n",
       "      <td>6275.0</td>\n",
       "      <td>156850</td>\n",
       "      <td>156875</td>\n",
       "      <td>Max Branning</td>\n",
       "    </tr>\n",
       "    <tr>\n",
       "      <th>39832</th>\n",
       "      <td>5274434588125702436.mp4</td>\n",
       "      <td>0.594016</td>\n",
       "      <td>6297.0</td>\n",
       "      <td>6299.0</td>\n",
       "      <td>157425</td>\n",
       "      <td>157475</td>\n",
       "      <td>Max Branning</td>\n",
       "    </tr>\n",
       "    <tr>\n",
       "      <th>39833</th>\n",
       "      <td>5274434588125702436.mp4</td>\n",
       "      <td>0.420277</td>\n",
       "      <td>6718.0</td>\n",
       "      <td>6719.0</td>\n",
       "      <td>167950</td>\n",
       "      <td>167975</td>\n",
       "      <td>Max Branning</td>\n",
       "    </tr>\n",
       "  </tbody>\n",
       "</table>\n",
       "<p>39834 rows × 7 columns</p>\n",
       "</div>"
      ],
      "text/plain": [
       "                          file  confidence  start_second  end_second  \\\n",
       "0      5321170704253895214.mp4    0.487189          76.0        78.0   \n",
       "1      5321170704253895214.mp4    0.589437         165.0       166.0   \n",
       "2      5321170704253895214.mp4    0.524413         169.0       171.0   \n",
       "3      5321170704253895214.mp4    0.431605         317.0       320.0   \n",
       "4      5321170704253895214.mp4    0.587939         583.0       585.0   \n",
       "...                        ...         ...           ...         ...   \n",
       "39829  5274434588125702436.mp4    0.448474        6047.0      6049.0   \n",
       "39830  5274434588125702436.mp4    0.604398        6228.0      6232.0   \n",
       "39831  5274434588125702436.mp4    0.506472        6274.0      6275.0   \n",
       "39832  5274434588125702436.mp4    0.594016        6297.0      6299.0   \n",
       "39833  5274434588125702436.mp4    0.420277        6718.0      6719.0   \n",
       "\n",
       "       start_frame  end_frame       character  \n",
       "0             1900       1950  Peggy Mitchell  \n",
       "1             4125       4150  Peggy Mitchell  \n",
       "2             4225       4275  Peggy Mitchell  \n",
       "3             7925       8000  Peggy Mitchell  \n",
       "4            14575      14625  Peggy Mitchell  \n",
       "...            ...        ...             ...  \n",
       "39829       151175     151225    Max Branning  \n",
       "39830       155700     155800    Max Branning  \n",
       "39831       156850     156875    Max Branning  \n",
       "39832       157425     157475    Max Branning  \n",
       "39833       167950     167975    Max Branning  \n",
       "\n",
       "[39834 rows x 7 columns]"
      ]
     },
     "execution_count": 10,
     "metadata": {},
     "output_type": "execute_result"
    }
   ],
   "source": [
    "df"
   ]
  },
  {
   "cell_type": "code",
   "execution_count": 27,
   "metadata": {},
   "outputs": [
    {
     "data": {
      "text/plain": [
       "file             object\n",
       "confidence      float64\n",
       "start_second    float64\n",
       "end_second      float64\n",
       "start_frame       int64\n",
       "end_frame         int64\n",
       "character        object\n",
       "dtype: object"
      ]
     },
     "execution_count": 27,
     "metadata": {},
     "output_type": "execute_result"
    }
   ],
   "source": [
    "df.dtypes"
   ]
  },
  {
   "cell_type": "code",
   "execution_count": 28,
   "metadata": {},
   "outputs": [
    {
     "data": {
      "text/html": [
       "<div>\n",
       "<style scoped>\n",
       "    .dataframe tbody tr th:only-of-type {\n",
       "        vertical-align: middle;\n",
       "    }\n",
       "\n",
       "    .dataframe tbody tr th {\n",
       "        vertical-align: top;\n",
       "    }\n",
       "\n",
       "    .dataframe thead th {\n",
       "        text-align: right;\n",
       "    }\n",
       "</style>\n",
       "<table border=\"1\" class=\"dataframe\">\n",
       "  <thead>\n",
       "    <tr style=\"text-align: right;\">\n",
       "      <th></th>\n",
       "      <th>confidence</th>\n",
       "      <th>start_second</th>\n",
       "      <th>end_second</th>\n",
       "      <th>start_frame</th>\n",
       "      <th>end_frame</th>\n",
       "    </tr>\n",
       "  </thead>\n",
       "  <tbody>\n",
       "    <tr>\n",
       "      <th>count</th>\n",
       "      <td>34278.000000</td>\n",
       "      <td>34278.000000</td>\n",
       "      <td>34278.000000</td>\n",
       "      <td>34278.000000</td>\n",
       "      <td>34278.000000</td>\n",
       "    </tr>\n",
       "    <tr>\n",
       "      <th>mean</th>\n",
       "      <td>0.635647</td>\n",
       "      <td>3233.109750</td>\n",
       "      <td>3235.427096</td>\n",
       "      <td>80827.743742</td>\n",
       "      <td>80885.677402</td>\n",
       "    </tr>\n",
       "    <tr>\n",
       "      <th>std</th>\n",
       "      <td>0.147484</td>\n",
       "      <td>1963.389679</td>\n",
       "      <td>1963.435593</td>\n",
       "      <td>49084.741977</td>\n",
       "      <td>49085.889826</td>\n",
       "    </tr>\n",
       "    <tr>\n",
       "      <th>min</th>\n",
       "      <td>0.400023</td>\n",
       "      <td>25.000000</td>\n",
       "      <td>26.000000</td>\n",
       "      <td>625.000000</td>\n",
       "      <td>650.000000</td>\n",
       "    </tr>\n",
       "    <tr>\n",
       "      <th>25%</th>\n",
       "      <td>0.511238</td>\n",
       "      <td>1485.000000</td>\n",
       "      <td>1488.000000</td>\n",
       "      <td>37125.000000</td>\n",
       "      <td>37200.000000</td>\n",
       "    </tr>\n",
       "    <tr>\n",
       "      <th>50%</th>\n",
       "      <td>0.619259</td>\n",
       "      <td>3153.000000</td>\n",
       "      <td>3156.000000</td>\n",
       "      <td>78825.000000</td>\n",
       "      <td>78900.000000</td>\n",
       "    </tr>\n",
       "    <tr>\n",
       "      <th>75%</th>\n",
       "      <td>0.747455</td>\n",
       "      <td>4747.000000</td>\n",
       "      <td>4749.000000</td>\n",
       "      <td>118675.000000</td>\n",
       "      <td>118725.000000</td>\n",
       "    </tr>\n",
       "    <tr>\n",
       "      <th>max</th>\n",
       "      <td>0.995121</td>\n",
       "      <td>8586.000000</td>\n",
       "      <td>8587.000000</td>\n",
       "      <td>214650.000000</td>\n",
       "      <td>214675.000000</td>\n",
       "    </tr>\n",
       "  </tbody>\n",
       "</table>\n",
       "</div>"
      ],
      "text/plain": [
       "         confidence  start_second    end_second    start_frame      end_frame\n",
       "count  34278.000000  34278.000000  34278.000000   34278.000000   34278.000000\n",
       "mean       0.635647   3233.109750   3235.427096   80827.743742   80885.677402\n",
       "std        0.147484   1963.389679   1963.435593   49084.741977   49085.889826\n",
       "min        0.400023     25.000000     26.000000     625.000000     650.000000\n",
       "25%        0.511238   1485.000000   1488.000000   37125.000000   37200.000000\n",
       "50%        0.619259   3153.000000   3156.000000   78825.000000   78900.000000\n",
       "75%        0.747455   4747.000000   4749.000000  118675.000000  118725.000000\n",
       "max        0.995121   8586.000000   8587.000000  214650.000000  214675.000000"
      ]
     },
     "execution_count": 28,
     "metadata": {},
     "output_type": "execute_result"
    }
   ],
   "source": [
    "df.describe()"
   ]
  },
  {
   "cell_type": "code",
   "execution_count": 12,
   "metadata": {},
   "outputs": [],
   "source": [
    "#df.name.unique()"
   ]
  },
  {
   "cell_type": "code",
   "execution_count": 13,
   "metadata": {},
   "outputs": [],
   "source": [
    "df_cut = df[df.confidence > 0.4]"
   ]
  },
  {
   "cell_type": "code",
   "execution_count": 44,
   "metadata": {},
   "outputs": [
    {
     "data": {
      "text/html": [
       "<div>\n",
       "<style scoped>\n",
       "    .dataframe tbody tr th:only-of-type {\n",
       "        vertical-align: middle;\n",
       "    }\n",
       "\n",
       "    .dataframe tbody tr th {\n",
       "        vertical-align: top;\n",
       "    }\n",
       "\n",
       "    .dataframe thead th {\n",
       "        text-align: right;\n",
       "    }\n",
       "</style>\n",
       "<table border=\"1\" class=\"dataframe\">\n",
       "  <thead>\n",
       "    <tr style=\"text-align: right;\">\n",
       "      <th></th>\n",
       "      <th>confidence</th>\n",
       "      <th>start_second</th>\n",
       "      <th>end_second</th>\n",
       "      <th>start_frame</th>\n",
       "      <th>end_frame</th>\n",
       "    </tr>\n",
       "  </thead>\n",
       "  <tbody>\n",
       "    <tr>\n",
       "      <th>count</th>\n",
       "      <td>34278.000000</td>\n",
       "      <td>34278.000000</td>\n",
       "      <td>34278.000000</td>\n",
       "      <td>34278.000000</td>\n",
       "      <td>34278.000000</td>\n",
       "    </tr>\n",
       "    <tr>\n",
       "      <th>mean</th>\n",
       "      <td>0.635647</td>\n",
       "      <td>3233.109750</td>\n",
       "      <td>3235.427096</td>\n",
       "      <td>80827.743742</td>\n",
       "      <td>80885.677402</td>\n",
       "    </tr>\n",
       "    <tr>\n",
       "      <th>std</th>\n",
       "      <td>0.147484</td>\n",
       "      <td>1963.389679</td>\n",
       "      <td>1963.435593</td>\n",
       "      <td>49084.741977</td>\n",
       "      <td>49085.889826</td>\n",
       "    </tr>\n",
       "    <tr>\n",
       "      <th>min</th>\n",
       "      <td>0.400023</td>\n",
       "      <td>25.000000</td>\n",
       "      <td>26.000000</td>\n",
       "      <td>625.000000</td>\n",
       "      <td>650.000000</td>\n",
       "    </tr>\n",
       "    <tr>\n",
       "      <th>25%</th>\n",
       "      <td>0.511238</td>\n",
       "      <td>1485.000000</td>\n",
       "      <td>1488.000000</td>\n",
       "      <td>37125.000000</td>\n",
       "      <td>37200.000000</td>\n",
       "    </tr>\n",
       "    <tr>\n",
       "      <th>50%</th>\n",
       "      <td>0.619259</td>\n",
       "      <td>3153.000000</td>\n",
       "      <td>3156.000000</td>\n",
       "      <td>78825.000000</td>\n",
       "      <td>78900.000000</td>\n",
       "    </tr>\n",
       "    <tr>\n",
       "      <th>75%</th>\n",
       "      <td>0.747455</td>\n",
       "      <td>4747.000000</td>\n",
       "      <td>4749.000000</td>\n",
       "      <td>118675.000000</td>\n",
       "      <td>118725.000000</td>\n",
       "    </tr>\n",
       "    <tr>\n",
       "      <th>max</th>\n",
       "      <td>0.995121</td>\n",
       "      <td>8586.000000</td>\n",
       "      <td>8587.000000</td>\n",
       "      <td>214650.000000</td>\n",
       "      <td>214675.000000</td>\n",
       "    </tr>\n",
       "  </tbody>\n",
       "</table>\n",
       "</div>"
      ],
      "text/plain": [
       "         confidence  start_second    end_second    start_frame      end_frame\n",
       "count  34278.000000  34278.000000  34278.000000   34278.000000   34278.000000\n",
       "mean       0.635647   3233.109750   3235.427096   80827.743742   80885.677402\n",
       "std        0.147484   1963.389679   1963.435593   49084.741977   49085.889826\n",
       "min        0.400023     25.000000     26.000000     625.000000     650.000000\n",
       "25%        0.511238   1485.000000   1488.000000   37125.000000   37200.000000\n",
       "50%        0.619259   3153.000000   3156.000000   78825.000000   78900.000000\n",
       "75%        0.747455   4747.000000   4749.000000  118675.000000  118725.000000\n",
       "max        0.995121   8586.000000   8587.000000  214650.000000  214675.000000"
      ]
     },
     "execution_count": 44,
     "metadata": {},
     "output_type": "execute_result"
    }
   ],
   "source": [
    "df_cut.describe()"
   ]
  },
  {
   "cell_type": "code",
   "execution_count": 14,
   "metadata": {},
   "outputs": [
    {
     "data": {
      "text/plain": [
       "array(['Peggy Mitchell', 'Tanya Branning', 'Jack Branning',\n",
       "       'Archie Mitchell', 'Max Branning'], dtype=object)"
      ]
     },
     "execution_count": 14,
     "metadata": {},
     "output_type": "execute_result"
    }
   ],
   "source": [
    "df_cut.character.unique()"
   ]
  },
  {
   "cell_type": "code",
   "execution_count": null,
   "metadata": {},
   "outputs": [],
   "source": [
    "#episodes with few apperances\n",
    "#'5256228221757951173.mp4"
   ]
  },
  {
   "cell_type": "code",
   "execution_count": null,
   "metadata": {},
   "outputs": [],
   "source": [
    "df_cut.5256228221757951173.mp4"
   ]
  },
  {
   "cell_type": "code",
   "execution_count": 48,
   "metadata": {},
   "outputs": [
    {
     "data": {
      "text/plain": [
       "{'60': '5245830105934359183.mp4',\n",
       " '61': '5248439298566680341.mp4',\n",
       " '62': '5251033029316736209.mp4',\n",
       " '63': '5253646087419594905.mp4',\n",
       " '64': '5256228221757951173.mp4',\n",
       " '65': '5258818087037440299.mp4',\n",
       " '66': '5264050645694159353.mp4',\n",
       " '67': '5266645664934403562.mp4',\n",
       " '68': '5269245838135402929.mp4',\n",
       " '69': '5271844722846213628.mp4',\n",
       " '70': '5274434588125702436.mp4',\n",
       " '79': '5300410550331962313.mp4',\n",
       " '80': '5300433743159556513.mp4',\n",
       " '81': '5303026185415228226.mp4',\n",
       " '82': '5305617339184877785.mp4',\n",
       " '83': '5308226531817199474.mp4',\n",
       " '84': '5310822839547632763.mp4',\n",
       " '85': '5313398531435045858.mp4',\n",
       " '86': '5316007724067368375.mp4',\n",
       " '87': '5318609185758554501.mp4',\n",
       " '88': '5321170704253895214.mp4',\n",
       " '89': '5323778608396028180.mp4'}"
      ]
     },
     "execution_count": 48,
     "metadata": {},
     "output_type": "execute_result"
    }
   ],
   "source": [
    "episodes_filenames"
   ]
  },
  {
   "cell_type": "code",
   "execution_count": 29,
   "metadata": {},
   "outputs": [
    {
     "data": {
      "image/png": "[encoded data removed]",
      "text/plain": [
       "<Figure size 1800x504 with 1 Axes>"
      ]
     },
     "metadata": {
      "needs_background": "light"
     },
     "output_type": "display_data"
    }
   ],
   "source": [
    "appearances = {'Max Branning':[], 'Jack Branning':[], 'Tanya Branning':[]}\n",
    "for i, e in df_cut[df_cut.file == '5264050645694159353.mp4'].iterrows():\n",
    "    if e['character'] in appearances:\n",
    "        appearances[e['character']].append(e['start_frame'])\n",
    "\n",
    "fig, ax = plt.subplots(figsize=(25,7))\n",
    "\n",
    "ax.scatter(appearances['Max Branning'], [1]*len(appearances['Max Branning']), marker='.',\n",
    "        color='green',  label='Max')\n",
    "ax.scatter(appearances['Jack Branning'], [2]*len(appearances['Jack Branning']),marker='.',\n",
    "        color='blue',  label='Jack')\n",
    "ax.scatter(appearances['Tanya Branning'], [3]*len(appearances['Tanya Branning']), marker='.',\n",
    "        color='red', label='Tanya')\n",
    "\n",
    "ax.legend()\n",
    "plt.show()"
   ]
  },
  {
   "cell_type": "code",
   "execution_count": 16,
   "metadata": {},
   "outputs": [],
   "source": [
    "cut = 0.5\n",
    "keep = 2\n",
    "add = 2"
   ]
  },
  {
   "cell_type": "code",
   "execution_count": 17,
   "metadata": {},
   "outputs": [],
   "source": [
    "df_cut = df[df.confidence > cut]"
   ]
  },
  {
   "cell_type": "code",
   "execution_count": 18,
   "metadata": {},
   "outputs": [
    {
     "data": {
      "text/html": [
       "<div>\n",
       "<style scoped>\n",
       "    .dataframe tbody tr th:only-of-type {\n",
       "        vertical-align: middle;\n",
       "    }\n",
       "\n",
       "    .dataframe tbody tr th {\n",
       "        vertical-align: top;\n",
       "    }\n",
       "\n",
       "    .dataframe thead th {\n",
       "        text-align: right;\n",
       "    }\n",
       "</style>\n",
       "<table border=\"1\" class=\"dataframe\">\n",
       "  <thead>\n",
       "    <tr style=\"text-align: right;\">\n",
       "      <th></th>\n",
       "      <th>file</th>\n",
       "      <th>confidence</th>\n",
       "      <th>start_second</th>\n",
       "      <th>end_second</th>\n",
       "      <th>start_frame</th>\n",
       "      <th>end_frame</th>\n",
       "      <th>character</th>\n",
       "    </tr>\n",
       "  </thead>\n",
       "  <tbody>\n",
       "    <tr>\n",
       "      <th>1</th>\n",
       "      <td>5321170704253895214.mp4</td>\n",
       "      <td>0.589437</td>\n",
       "      <td>165.0</td>\n",
       "      <td>166.0</td>\n",
       "      <td>4125</td>\n",
       "      <td>4150</td>\n",
       "      <td>Peggy Mitchell</td>\n",
       "    </tr>\n",
       "    <tr>\n",
       "      <th>2</th>\n",
       "      <td>5321170704253895214.mp4</td>\n",
       "      <td>0.524413</td>\n",
       "      <td>169.0</td>\n",
       "      <td>171.0</td>\n",
       "      <td>4225</td>\n",
       "      <td>4275</td>\n",
       "      <td>Peggy Mitchell</td>\n",
       "    </tr>\n",
       "    <tr>\n",
       "      <th>4</th>\n",
       "      <td>5321170704253895214.mp4</td>\n",
       "      <td>0.587939</td>\n",
       "      <td>583.0</td>\n",
       "      <td>585.0</td>\n",
       "      <td>14575</td>\n",
       "      <td>14625</td>\n",
       "      <td>Peggy Mitchell</td>\n",
       "    </tr>\n",
       "    <tr>\n",
       "      <th>5</th>\n",
       "      <td>5321170704253895214.mp4</td>\n",
       "      <td>0.578407</td>\n",
       "      <td>615.0</td>\n",
       "      <td>616.0</td>\n",
       "      <td>15375</td>\n",
       "      <td>15400</td>\n",
       "      <td>Peggy Mitchell</td>\n",
       "    </tr>\n",
       "    <tr>\n",
       "      <th>7</th>\n",
       "      <td>5321170704253895214.mp4</td>\n",
       "      <td>0.754803</td>\n",
       "      <td>849.0</td>\n",
       "      <td>850.0</td>\n",
       "      <td>21225</td>\n",
       "      <td>21250</td>\n",
       "      <td>Peggy Mitchell</td>\n",
       "    </tr>\n",
       "    <tr>\n",
       "      <th>...</th>\n",
       "      <td>...</td>\n",
       "      <td>...</td>\n",
       "      <td>...</td>\n",
       "      <td>...</td>\n",
       "      <td>...</td>\n",
       "      <td>...</td>\n",
       "      <td>...</td>\n",
       "    </tr>\n",
       "    <tr>\n",
       "      <th>39819</th>\n",
       "      <td>5274434588125702436.mp4</td>\n",
       "      <td>0.530766</td>\n",
       "      <td>5318.0</td>\n",
       "      <td>5323.0</td>\n",
       "      <td>132950</td>\n",
       "      <td>133075</td>\n",
       "      <td>Max Branning</td>\n",
       "    </tr>\n",
       "    <tr>\n",
       "      <th>39820</th>\n",
       "      <td>5274434588125702436.mp4</td>\n",
       "      <td>0.577022</td>\n",
       "      <td>5327.0</td>\n",
       "      <td>5329.0</td>\n",
       "      <td>133175</td>\n",
       "      <td>133225</td>\n",
       "      <td>Max Branning</td>\n",
       "    </tr>\n",
       "    <tr>\n",
       "      <th>39830</th>\n",
       "      <td>5274434588125702436.mp4</td>\n",
       "      <td>0.604398</td>\n",
       "      <td>6228.0</td>\n",
       "      <td>6232.0</td>\n",
       "      <td>155700</td>\n",
       "      <td>155800</td>\n",
       "      <td>Max Branning</td>\n",
       "    </tr>\n",
       "    <tr>\n",
       "      <th>39831</th>\n",
       "      <td>5274434588125702436.mp4</td>\n",
       "      <td>0.506472</td>\n",
       "      <td>6274.0</td>\n",
       "      <td>6275.0</td>\n",
       "      <td>156850</td>\n",
       "      <td>156875</td>\n",
       "      <td>Max Branning</td>\n",
       "    </tr>\n",
       "    <tr>\n",
       "      <th>39832</th>\n",
       "      <td>5274434588125702436.mp4</td>\n",
       "      <td>0.594016</td>\n",
       "      <td>6297.0</td>\n",
       "      <td>6299.0</td>\n",
       "      <td>157425</td>\n",
       "      <td>157475</td>\n",
       "      <td>Max Branning</td>\n",
       "    </tr>\n",
       "  </tbody>\n",
       "</table>\n",
       "<p>29532 rows × 7 columns</p>\n",
       "</div>"
      ],
      "text/plain": [
       "                          file  confidence  start_second  end_second  \\\n",
       "1      5321170704253895214.mp4    0.589437         165.0       166.0   \n",
       "2      5321170704253895214.mp4    0.524413         169.0       171.0   \n",
       "4      5321170704253895214.mp4    0.587939         583.0       585.0   \n",
       "5      5321170704253895214.mp4    0.578407         615.0       616.0   \n",
       "7      5321170704253895214.mp4    0.754803         849.0       850.0   \n",
       "...                        ...         ...           ...         ...   \n",
       "39819  5274434588125702436.mp4    0.530766        5318.0      5323.0   \n",
       "39820  5274434588125702436.mp4    0.577022        5327.0      5329.0   \n",
       "39830  5274434588125702436.mp4    0.604398        6228.0      6232.0   \n",
       "39831  5274434588125702436.mp4    0.506472        6274.0      6275.0   \n",
       "39832  5274434588125702436.mp4    0.594016        6297.0      6299.0   \n",
       "\n",
       "       start_frame  end_frame       character  \n",
       "1             4125       4150  Peggy Mitchell  \n",
       "2             4225       4275  Peggy Mitchell  \n",
       "4            14575      14625  Peggy Mitchell  \n",
       "5            15375      15400  Peggy Mitchell  \n",
       "7            21225      21250  Peggy Mitchell  \n",
       "...            ...        ...             ...  \n",
       "39819       132950     133075    Max Branning  \n",
       "39820       133175     133225    Max Branning  \n",
       "39830       155700     155800    Max Branning  \n",
       "39831       156850     156875    Max Branning  \n",
       "39832       157425     157475    Max Branning  \n",
       "\n",
       "[29532 rows x 7 columns]"
      ]
     },
     "execution_count": 18,
     "metadata": {},
     "output_type": "execute_result"
    }
   ],
   "source": [
    "df_cut"
   ]
  },
  {
   "cell_type": "code",
   "execution_count": 19,
   "metadata": {},
   "outputs": [],
   "source": [
    "recs = {f:set() for f in df.file.unique()}\n",
    "kept = {}\n",
    "for i, e in df_cut.iterrows():\n",
    "    file = e['file']\n",
    "    k = find_prev(shots_starts[file], e['start_second'])\n",
    "    recs[file].add(k-1)\n",
    "    recs[file].add(k)\n",
    "    recs[file].add(k+1)\n",
    "    \n",
    "    if (file, k, e['character']) not in kept:\n",
    "        kept[(file, k, e['character'])] = []\n",
    "    kept[(file, k, e['character'])].append(e['confidence'])\n",
    "    \n",
    "    if add == 2: \n",
    "        recs[file].add(k-2)\n",
    "        recs[file].add(k+2)\n",
    "        \n",
    "    # if len(recs[file]) < 4:\n",
    "    #    print(file, e['second'], k, recs[file])"
   ]
  },
  {
   "cell_type": "code",
   "execution_count": 88,
   "metadata": {},
   "outputs": [],
   "source": [
    "# kept[('5313398531435045858.mp4', 245, 'Tanya Branning')]"
   ]
  },
  {
   "cell_type": "code",
   "execution_count": 2,
   "metadata": {},
   "outputs": [
    {
     "ename": "NameError",
     "evalue": "name 'kept' is not defined",
     "output_type": "error",
     "traceback": [
      "\u001b[0;31m---------------------------------------------------------------------------\u001b[0m",
      "\u001b[0;31mNameError\u001b[0m                                 Traceback (most recent call last)",
      "\u001b[0;32m<ipython-input-2-4b9d078f5de8>\u001b[0m in \u001b[0;36m<module>\u001b[0;34m\u001b[0m\n\u001b[1;32m      1\u001b[0m \u001b[0mdata_kept\u001b[0m \u001b[0;34m=\u001b[0m \u001b[0;34m[\u001b[0m\u001b[0;34m]\u001b[0m\u001b[0;34m\u001b[0m\u001b[0;34m\u001b[0m\u001b[0m\n\u001b[0;32m----> 2\u001b[0;31m \u001b[0;32mfor\u001b[0m \u001b[0mk\u001b[0m \u001b[0;32min\u001b[0m \u001b[0mkept\u001b[0m\u001b[0;34m:\u001b[0m\u001b[0;34m\u001b[0m\u001b[0;34m\u001b[0m\u001b[0m\n\u001b[0m\u001b[1;32m      3\u001b[0m     \u001b[0mfile\u001b[0m\u001b[0;34m,\u001b[0m \u001b[0mshot_id\u001b[0m\u001b[0;34m,\u001b[0m \u001b[0mcharacter\u001b[0m \u001b[0;34m=\u001b[0m \u001b[0mk\u001b[0m\u001b[0;34m\u001b[0m\u001b[0;34m\u001b[0m\u001b[0m\n\u001b[1;32m      4\u001b[0m     \u001b[0mdata_kept\u001b[0m\u001b[0;34m.\u001b[0m\u001b[0mappend\u001b[0m\u001b[0;34m(\u001b[0m\u001b[0;34m(\u001b[0m\u001b[0mfile\u001b[0m\u001b[0;34m,\u001b[0m \u001b[0mshot_id\u001b[0m\u001b[0;34m,\u001b[0m \u001b[0mcharacter\u001b[0m\u001b[0;34m,\u001b[0m \u001b[0msum\u001b[0m\u001b[0;34m(\u001b[0m\u001b[0mkept\u001b[0m\u001b[0;34m[\u001b[0m\u001b[0mk\u001b[0m\u001b[0;34m]\u001b[0m\u001b[0;34m)\u001b[0m\u001b[0;34m/\u001b[0m\u001b[0mlen\u001b[0m\u001b[0;34m(\u001b[0m\u001b[0mkept\u001b[0m\u001b[0;34m[\u001b[0m\u001b[0mk\u001b[0m\u001b[0;34m]\u001b[0m\u001b[0;34m)\u001b[0m\u001b[0;34m)\u001b[0m\u001b[0;34m)\u001b[0m\u001b[0;34m\u001b[0m\u001b[0;34m\u001b[0m\u001b[0m\n",
      "\u001b[0;31mNameError\u001b[0m: name 'kept' is not defined"
     ]
    }
   ],
   "source": [
    "data_kept = []\n",
    "for k in kept:\n",
    "    file, shot_id, character = k\n",
    "    data_kept.append((file, shot_id, character, sum(kept[k])/len(kept[k])))"
   ]
  },
  {
   "cell_type": "code",
   "execution_count": 76,
   "metadata": {},
   "outputs": [
    {
     "name": "stderr",
     "output_type": "stream",
     "text": [
      "/home/semantic/.conda/envs/areboudpy37/lib/python3.7/site-packages/ipykernel_launcher.py:2: FutureWarning: The default value of regex will change from True to False in a future version.\n",
      "  \n"
     ]
    }
   ],
   "source": [
    "df_kept = pd.DataFrame(data_kept, columns=['file', 'shot_id', 'character', 'avg_confidence'])\n",
    "df_kept['file']=df_kept['file'].str.replace('.mp4','')\n"
   ]
  },
  {
   "cell_type": "code",
   "execution_count": 8,
   "metadata": {},
   "outputs": [
    {
     "data": {
      "text/html": [
       "<div>\n",
       "<style scoped>\n",
       "    .dataframe tbody tr th:only-of-type {\n",
       "        vertical-align: middle;\n",
       "    }\n",
       "\n",
       "    .dataframe tbody tr th {\n",
       "        vertical-align: top;\n",
       "    }\n",
       "\n",
       "    .dataframe thead th {\n",
       "        text-align: right;\n",
       "    }\n",
       "</style>\n",
       "<table border=\"1\" class=\"dataframe\">\n",
       "  <thead>\n",
       "    <tr style=\"text-align: right;\">\n",
       "      <th></th>\n",
       "      <th>Unnamed: 0</th>\n",
       "      <th>file</th>\n",
       "      <th>shot_id</th>\n",
       "      <th>character</th>\n",
       "      <th>avg_confidence</th>\n",
       "      <th>unique_id</th>\n",
       "    </tr>\n",
       "  </thead>\n",
       "  <tbody>\n",
       "    <tr>\n",
       "      <th>0</th>\n",
       "      <td>0</td>\n",
       "      <td>5321170704253895214.mp4</td>\n",
       "      <td>47</td>\n",
       "      <td>Peggy Mitchell</td>\n",
       "      <td>0.556925</td>\n",
       "      <td>47_5321170704253895214.mp4</td>\n",
       "    </tr>\n",
       "    <tr>\n",
       "      <th>1</th>\n",
       "      <td>1</td>\n",
       "      <td>5321170704253895214.mp4</td>\n",
       "      <td>188</td>\n",
       "      <td>Peggy Mitchell</td>\n",
       "      <td>0.587939</td>\n",
       "      <td>188_5321170704253895214.mp4</td>\n",
       "    </tr>\n",
       "    <tr>\n",
       "      <th>2</th>\n",
       "      <td>2</td>\n",
       "      <td>5321170704253895214.mp4</td>\n",
       "      <td>200</td>\n",
       "      <td>Peggy Mitchell</td>\n",
       "      <td>0.578407</td>\n",
       "      <td>200_5321170704253895214.mp4</td>\n",
       "    </tr>\n",
       "    <tr>\n",
       "      <th>3</th>\n",
       "      <td>3</td>\n",
       "      <td>5321170704253895214.mp4</td>\n",
       "      <td>269</td>\n",
       "      <td>Peggy Mitchell</td>\n",
       "      <td>0.754803</td>\n",
       "      <td>269_5321170704253895214.mp4</td>\n",
       "    </tr>\n",
       "    <tr>\n",
       "      <th>4</th>\n",
       "      <td>4</td>\n",
       "      <td>5321170704253895214.mp4</td>\n",
       "      <td>278</td>\n",
       "      <td>Peggy Mitchell</td>\n",
       "      <td>0.712417</td>\n",
       "      <td>278_5321170704253895214.mp4</td>\n",
       "    </tr>\n",
       "    <tr>\n",
       "      <th>...</th>\n",
       "      <td>...</td>\n",
       "      <td>...</td>\n",
       "      <td>...</td>\n",
       "      <td>...</td>\n",
       "      <td>...</td>\n",
       "      <td>...</td>\n",
       "    </tr>\n",
       "    <tr>\n",
       "      <th>4360</th>\n",
       "      <td>4360</td>\n",
       "      <td>5274434588125702436.mp4</td>\n",
       "      <td>1610</td>\n",
       "      <td>Max Branning</td>\n",
       "      <td>0.530766</td>\n",
       "      <td>1610_5274434588125702436.mp4</td>\n",
       "    </tr>\n",
       "    <tr>\n",
       "      <th>4361</th>\n",
       "      <td>4361</td>\n",
       "      <td>5274434588125702436.mp4</td>\n",
       "      <td>1613</td>\n",
       "      <td>Max Branning</td>\n",
       "      <td>0.577022</td>\n",
       "      <td>1613_5274434588125702436.mp4</td>\n",
       "    </tr>\n",
       "    <tr>\n",
       "      <th>4362</th>\n",
       "      <td>4362</td>\n",
       "      <td>5274434588125702436.mp4</td>\n",
       "      <td>1892</td>\n",
       "      <td>Max Branning</td>\n",
       "      <td>0.604398</td>\n",
       "      <td>1892_5274434588125702436.mp4</td>\n",
       "    </tr>\n",
       "    <tr>\n",
       "      <th>4363</th>\n",
       "      <td>4363</td>\n",
       "      <td>5274434588125702436.mp4</td>\n",
       "      <td>1900</td>\n",
       "      <td>Max Branning</td>\n",
       "      <td>0.506472</td>\n",
       "      <td>1900_5274434588125702436.mp4</td>\n",
       "    </tr>\n",
       "    <tr>\n",
       "      <th>4364</th>\n",
       "      <td>4364</td>\n",
       "      <td>5274434588125702436.mp4</td>\n",
       "      <td>1904</td>\n",
       "      <td>Max Branning</td>\n",
       "      <td>0.594016</td>\n",
       "      <td>1904_5274434588125702436.mp4</td>\n",
       "    </tr>\n",
       "  </tbody>\n",
       "</table>\n",
       "<p>4365 rows × 6 columns</p>\n",
       "</div>"
      ],
      "text/plain": [
       "      Unnamed: 0                     file  shot_id       character  \\\n",
       "0              0  5321170704253895214.mp4       47  Peggy Mitchell   \n",
       "1              1  5321170704253895214.mp4      188  Peggy Mitchell   \n",
       "2              2  5321170704253895214.mp4      200  Peggy Mitchell   \n",
       "3              3  5321170704253895214.mp4      269  Peggy Mitchell   \n",
       "4              4  5321170704253895214.mp4      278  Peggy Mitchell   \n",
       "...          ...                      ...      ...             ...   \n",
       "4360        4360  5274434588125702436.mp4     1610    Max Branning   \n",
       "4361        4361  5274434588125702436.mp4     1613    Max Branning   \n",
       "4362        4362  5274434588125702436.mp4     1892    Max Branning   \n",
       "4363        4363  5274434588125702436.mp4     1900    Max Branning   \n",
       "4364        4364  5274434588125702436.mp4     1904    Max Branning   \n",
       "\n",
       "      avg_confidence                     unique_id  \n",
       "0           0.556925    47_5321170704253895214.mp4  \n",
       "1           0.587939   188_5321170704253895214.mp4  \n",
       "2           0.578407   200_5321170704253895214.mp4  \n",
       "3           0.754803   269_5321170704253895214.mp4  \n",
       "4           0.712417   278_5321170704253895214.mp4  \n",
       "...              ...                           ...  \n",
       "4360        0.530766  1610_5274434588125702436.mp4  \n",
       "4361        0.577022  1613_5274434588125702436.mp4  \n",
       "4362        0.604398  1892_5274434588125702436.mp4  \n",
       "4363        0.506472  1900_5274434588125702436.mp4  \n",
       "4364        0.594016  1904_5274434588125702436.mp4  \n",
       "\n",
       "[4365 rows x 6 columns]"
      ]
     },
     "execution_count": 8,
     "metadata": {},
     "output_type": "execute_result"
    }
   ],
   "source": []
  },
  {
   "cell_type": "markdown",
   "metadata": {},
   "source": [
    "# READING \n"
   ]
  },
  {
   "cell_type": "code",
   "execution_count": 3,
   "metadata": {},
   "outputs": [],
   "source": [
    "#df_kept.to_csv('chosen_segments_'+str(cut)+'.csv')\n",
    "\n",
    "\n",
    "cut=0.5\n",
    "df_kept=pd.read_csv('chosen_segments_'+str(cut)+'.csv')\n",
    "df_kept['unique_id']=df_kept['shot_id'].map(str)+'_'+df_kept['file'].map(str)\n",
    "df_kept['unique_id']=df_kept['unique_id'].str.replace('.mp4','')"
   ]
  },
  {
   "cell_type": "code",
   "execution_count": 4,
   "metadata": {},
   "outputs": [],
   "source": [
    "soap_opera_scale={'extramarital affair': 1/1.98, 'get divorced': 1/1.96,'illegitimate child': 1/1.45,'institutionalized for emotional problem': 1/1.43,'happily married': 1/4.05,'serious accident': 1/2.96,'murdered': 1/1.81,'attempt suicide': 1/1.26,'blackmailed': 1/1.86,'unfaithful spouse': 1/2.23,'sexually assaulted': 1/2.60,'abortion': 1/1.41}\n"
   ]
  },
  {
   "cell_type": "code",
   "execution_count": 5,
   "metadata": {
    "scrolled": false
   },
   "outputs": [
    {
     "name": "stdout",
     "output_type": "stream",
     "text": [
      "    index        begin          end             filename  shot_id_x  \\\n",
      "3   17945  00:20:06:22  00:20:35:21  5269245838135402929        409   \n",
      "5   14719  01:40:24:15  01:40:27:13  5264050645694159353       1870   \n",
      "8    7338  00:41:51:01  00:41:53:24  5253646087419594905        729   \n",
      "9     699  00:39:13:16  00:39:19:19  5245830105934359183        700   \n",
      "11  16360  00:46:59:16  00:47:05:10  5266645664934403562        929   \n",
      "12  14842  01:48:04:19  01:48:06:12  5264050645694159353       1993   \n",
      "17  11856  01:01:53:02  01:01:56:03  5258818087037440299       1225   \n",
      "18  14743  01:41:56:03  01:42:05:22  5264050645694159353       1894   \n",
      "27  21853  00:41:51:22  00:41:54:21  5274434588125702436        760   \n",
      "29  22076  00:55:14:24  00:55:19:06  5274434588125702436        983   \n",
      "32     62  00:03:38:05  00:03:57:18  5245830105934359183         63   \n",
      "37   4049  01:39:43:22  01:39:48:02  5248439298566680341       1969   \n",
      "39   3931  01:32:56:06  01:33:00:17  5248439298566680341       1851   \n",
      "42  12369  01:29:34:20  01:30:13:23  5258818087037440299       1738   \n",
      "45  17848  00:15:21:12  00:15:23:13  5269245838135402929        312   \n",
      "50  15585  00:06:35:19  00:06:43:08  5266645664934403562        154   \n",
      "53   4048  01:39:38:02  01:39:43:21  5248439298566680341       1968   \n",
      "54   3810  01:25:54:19  01:26:12:04  5248439298566680341       1730   \n",
      "56   5153  00:41:57:10  00:42:02:06  5251033029316736209        837   \n",
      "57  12293  01:24:34:16  01:24:38:04  5258818087037440299       1662   \n",
      "\n",
      "                                                                                                                                                                                                                                                                                                                                                                                                                                                                          transcript  \\\n",
      "3                                                                                                                                               Tan.  Stop.  Please!  I've made up my mind.  But the police don't know anything!  Why tell them now? Because it's the right thing to do.  No.  No!  I'm not letting you ruin  everything!  Not now. Look, I've made up my mind, right.  You've got no choice.  Don't matter what you say. I'm doing it.  So you'd better let me go.    \n",
      "5                                                                                                                                                                                                                                                                                                                                                                                                                                   It's not true.  None of it.  I don't believe it.   \n",
      "8                                                                                                                                                                                                                                                                                                                                                                                                                         Yesterday you said I could go,  though. Now I'm saying no.   \n",
      "9                                                                                                                                                                                                                                                                                                                                                                                                  Hi, fantastic.  Max wasn't sure if you were coming,  what with the D-I-V-O-R-C-E.   \n",
      "11                                                                                                                                                                                                                                                                                                                                                                                                                                                                          No.  No.   \n",
      "12                                                                                                                                                                                                                                                                                                                                                                                                            No, it doesn't.  It must. It doesn't. We're gonna start our new lives.   \n",
      "17                                                                                                                                                                                                                                                                                                                                                                                                                                          Today.  All right,  I'll tell him today.   \n",
      "18                                                                                                                                                                                                                                                                                                                                                                                                                                          I don't deserve you.  No, you're wrong.    \n",
      "27                                                                                                                                                                                                                                                                                                                                                                                                                                                                      Cos she did.   \n",
      "29                                                                                                                                                                                                                                                                                                                                                                                                                                                                               No.   \n",
      "32                                                                                                                                                                                                                                                                                                                                                                                                                                    You OK?  Yeah, I am,  but Max isn't gonna be.    \n",
      "37                                                                                                                                                                                                                                                                                                                                                                                                                                            No, no, don't do this,  Tanya, please.   \n",
      "39                                                                                                                                                                                                                                                                                                                                                                                                                         I'm sorry, Mrs Branning  checked out an hour ago. Right.    \n",
      "42  This isn't right.  I thought you loved pepperoni.  Tan, come on, lighten up. Well, maybe I'm just not  in a very jokey mood tonight. Oh, right, cos my life's just  one big laugh at the moment. Very soon, some judge  will rubber stamp some form and 14 years of marriage,  14 years of us, will be over. And what?  We can't even manage  to sit around the same table, eat a bit of pizza and talk? We fallen that far?  And I got them to put  extra mushrooms on for you.   \n",
      "45                                                                                                                                                                                                                                                                                                                                                                                                                                                         No, darling, no, listen.    \n",
      "50                                                                                                                                                                                                                                                                                                                                                                                                                                  Go on upstairs, girls.  It's all right.  Go on.    \n",
      "53                                                                                                                                                                                                                                                                                                                                                                                                                                           I want you out by the time  I get back.   \n",
      "54                                                                                                                                                                                          You can't sit here moping all day.  Get your bag. Come on, it's only gonna  be for a couple of hours. Can't I go round Ben's? No you can't, you've been suspended!  Grounded too, am I? You can take that homework Ben  brought round, though.  I don't want you falling behind.  Go on.   \n",
      "56                                                                                                                                                                                                                                                                                                                                                                                                                                   I gotta go, darlin',  yeah, sorry, speak later.   \n",
      "57                                                                                                                                                                                                                                                                                                                                                                                                        Yeah, I do.  But they didn't, did they?  And I'm with Tanya now, remember.   \n",
      "\n",
      "    death relative    Divorce  Marital separation  Imprisonment  \\\n",
      "3        99.818534  36.854579           39.704284     23.384477   \n",
      "5        99.816060  38.503282           42.401674     30.142673   \n",
      "8        99.579626  37.896442           46.208450     15.118428   \n",
      "9        99.546653  68.395246           22.968874      9.065751   \n",
      "11       99.465603  42.174260           44.714217     28.820465   \n",
      "12       99.303550  43.334765           46.622501     16.177681   \n",
      "17       98.898321  28.759813           34.482728     17.093257   \n",
      "18       98.881209  35.520702           39.695241     22.972669   \n",
      "27       98.075563  35.540624           31.692983     10.839028   \n",
      "29       97.926861  46.128000           42.726255     27.621504   \n",
      "32       97.452712  16.522833           45.818978      9.539287   \n",
      "37       97.109675  34.802827           41.243393     14.605946   \n",
      "39       97.003096  56.364351           63.636959      9.092266   \n",
      "42       96.734327  58.778311           62.795232     10.814509   \n",
      "45       96.551156  30.912000           36.623745     20.142927   \n",
      "50       95.757413  18.326008           23.464467      7.156122   \n",
      "53       95.288306  29.608059           47.252253     31.353889   \n",
      "54       95.280010  13.702264           16.911202     53.306777   \n",
      "56       95.168072  20.642026           51.049875      9.040530   \n",
      "57       95.150870  31.504233           45.587524     12.477395   \n",
      "\n",
      "    injury illness   Marriage      Fired  Marital reconciliation  Retirement  \\\n",
      "3        35.302047  30.815375  31.510832               14.525912   23.434970   \n",
      "5        31.435504  31.754744  35.594322               21.752889   32.255677   \n",
      "8        31.933364  31.070012  25.111530               17.397309   19.199319   \n",
      "9        41.911508  22.662015  21.697685               18.541526   17.568402   \n",
      "11       23.569484  29.951978  34.036879               24.155331   25.709070   \n",
      "12       18.744515  32.171345  28.080053               30.484891   13.097889   \n",
      "17       22.281730  33.972952  26.218457               29.916901   24.417034   \n",
      "18       26.472373  33.712351  26.901771               22.228483   21.311207   \n",
      "27       12.898625  37.205246  23.521355               36.001883   19.430564   \n",
      "29       18.483197  24.794348  44.915778                7.432999   15.899326   \n",
      "32       31.669103  25.848785  25.238367               14.486603   16.473235   \n",
      "37       29.782227  20.525272   2.578095                7.557304    9.946352   \n",
      "39       30.345952  19.724926  42.842667               11.769277   27.802537   \n",
      "42       18.145654  48.196983  10.498821                2.824521    4.227222   \n",
      "45       26.414613  27.952561   6.370847               30.101885   11.799146   \n",
      "50       16.784385  33.922365   1.992659               27.456985   25.742721   \n",
      "53       11.247853  13.374841  44.829105                1.246938   19.288668   \n",
      "54       16.607186   7.348565  30.312545                8.691669    5.257310   \n",
      "56       20.190852  30.512983   6.245120               35.132397   10.336837   \n",
      "57       18.917717  32.507750   6.636014               28.263689    9.052083   \n",
      "\n",
      "    Pregnancy  Sexual difficulties  New family member  Business readjustment  \\\n",
      "3   13.113772            33.604582          34.744708              26.400770   \n",
      "5   15.688847            25.183894          33.331869              22.815843   \n",
      "8   10.193875            29.947946          31.029697              32.316395   \n",
      "9   13.118953            38.204215          36.187338              17.829146   \n",
      "11  17.968963            18.656917          27.233535              20.880499   \n",
      "12  10.729028            24.366836          34.846864              18.315080   \n",
      "17  12.696795            16.103804          34.518661              26.513694   \n",
      "18   9.790157            29.466890          24.970897              20.415076   \n",
      "27  18.489752            16.943416          22.648431              17.987228   \n",
      "29   7.819023            19.672175          11.619167              11.513795   \n",
      "32   1.003454            24.230406          33.064726              21.755836   \n",
      "37  16.496391            32.168202          37.795662              16.663418   \n",
      "39   0.426199            15.880189           7.709664              17.054006   \n",
      "42   0.852567            32.434490           5.306024              22.464841   \n",
      "45  14.315611            25.448062          35.634702              13.660393   \n",
      "50  19.258965            22.547410          37.286316              23.703619   \n",
      "53   2.153590            12.127755          13.962688              19.690223   \n",
      "54   1.792868            23.918854          29.547372              26.089509   \n",
      "56   3.927690            21.161708          35.328554              17.870201   \n",
      "57   3.755726            22.521174          28.970460              11.722397   \n",
      "\n",
      "    Money change  Work change    Arguing   Mortgage  Child leaving home  \\\n",
      "3      29.902555    23.095315  29.465148  22.630667           20.489131   \n",
      "5      27.153481    26.330255  27.452696  21.201227           18.171029   \n",
      "8      34.868516    34.537044  32.597289  19.347605           25.513646   \n",
      "9      21.606911    24.217476  21.678168   9.791343            8.232620   \n",
      "11     23.899285    24.204149  29.204847  17.066761           19.082653   \n",
      "12     34.045951    29.850429  32.557166  19.582832           24.299032   \n",
      "17     22.604167    28.163883  21.891810  16.536276           17.319698   \n",
      "18     23.471623    18.824696  31.529266  19.856577           14.781685   \n",
      "27     19.680655    21.863267  22.233762  17.791735           18.842451   \n",
      "29     18.349721    20.117177  31.267701  13.061560           19.057057   \n",
      "32     21.092768    32.951174  25.498036  10.550652           18.064389   \n",
      "37     23.295569    26.104406  26.361558  13.724660           23.810254   \n",
      "39     12.125919    29.423962  23.090749   7.435246            5.172492   \n",
      "42     19.001309    16.780155  24.106700  11.213818            8.745329   \n",
      "45     17.292446    20.137418  19.622270  11.697404           18.765797   \n",
      "50     22.505438    24.673478  11.868259  16.340319           22.564252   \n",
      "53     15.865293    29.985009  15.551342  17.248707           24.212111   \n",
      "54     17.198275    27.823395  33.393363  13.485841           25.307679   \n",
      "56     18.964680    21.622128  16.999190   9.553781           27.932938   \n",
      "57     25.035700    27.109730  30.373357  12.075770           11.755404   \n",
      "\n",
      "    Trouble with in-laws  Achievement       score  score_max  \\\n",
      "3              14.550850    16.723614  545.423715  99.818534   \n",
      "5              14.129515    13.168676  543.673624  99.816060   \n",
      "8              15.079076    10.336537  514.633323  99.579626   \n",
      "9               9.745059     6.123928  514.518838  99.546653   \n",
      "11             10.016963    10.285386  506.315788  99.465603   \n",
      "12              5.278709    16.617548  488.306628  99.303550   \n",
      "17              8.094821    19.585535  459.743987  98.898321   \n",
      "18              8.625898     8.963095  457.246300  98.881209   \n",
      "27              8.978994    26.384723  430.619778  98.075563   \n",
      "29              8.080482     2.930139  425.885441  97.926861   \n",
      "32              6.367507     8.432834  417.901280  97.452712   \n",
      "37             21.335954     1.040478  410.212166  97.109675   \n",
      "39             20.295296     4.642286  405.584772  97.003096   \n",
      "42              8.302313     3.983035  400.211084  96.734327   \n",
      "45             12.241957     4.042188  397.079459  96.551156   \n",
      "50              4.622941    19.841225  386.452282  95.757413   \n",
      "53             14.270975     7.239303  380.446462  95.288306   \n",
      "54              9.208728    11.221623  380.428205  95.280010   \n",
      "56              7.649617     9.632296  379.137140  95.168072   \n",
      "57              7.114337    11.120257  379.081755  95.150870   \n",
      "\n",
      "                   unique_id  Unnamed: 0                     file  shot_id_y  \\\n",
      "3    409_5269245838135402929        1686  5269245838135402929.mp4        409   \n",
      "5   1870_5264050645694159353        1095  5264050645694159353.mp4       1870   \n",
      "8    729_5253646087419594905        2472  5253646087419594905.mp4        729   \n",
      "9    700_5245830105934359183        2982  5245830105934359183.mp4        700   \n",
      "11   929_5266645664934403562         535  5266645664934403562.mp4        929   \n",
      "12  1993_5264050645694159353        1126  5264050645694159353.mp4       1993   \n",
      "17  1225_5258818087037440299        2713  5258818087037440299.mp4       1225   \n",
      "18  1894_5264050645694159353        1102  5264050645694159353.mp4       1894   \n",
      "27   760_5274434588125702436        4154  5274434588125702436.mp4        760   \n",
      "29   983_5274434588125702436        4185  5274434588125702436.mp4        983   \n",
      "32    63_5245830105934359183        2960  5245830105934359183.mp4         63   \n",
      "37  1969_5248439298566680341        1454  5248439298566680341.mp4       1969   \n",
      "39  1851_5248439298566680341        1445  5248439298566680341.mp4       1851   \n",
      "42  1738_5258818087037440299        2757  5258818087037440299.mp4       1738   \n",
      "45   312_5269245838135402929        1681  5269245838135402929.mp4        312   \n",
      "50   154_5266645664934403562         478  5266645664934403562.mp4        154   \n",
      "53  1968_5248439298566680341        1453  5248439298566680341.mp4       1968   \n",
      "54  1730_5248439298566680341        1431  5248439298566680341.mp4       1730   \n",
      "56   837_5251033029316736209        1877  5251033029316736209.mp4        837   \n",
      "57  1662_5258818087037440299        2753  5258818087037440299.mp4       1662   \n",
      "\n",
      "         character  avg_confidence  \n",
      "3   Tanya Branning        0.794230  \n",
      "5   Tanya Branning        0.777256  \n",
      "8   Tanya Branning        0.841627  \n",
      "9   Tanya Branning        0.750019  \n",
      "11  Tanya Branning        0.660710  \n",
      "12  Tanya Branning        0.900440  \n",
      "17  Tanya Branning        0.845213  \n",
      "18  Tanya Branning        0.821400  \n",
      "27  Tanya Branning        0.634550  \n",
      "29  Tanya Branning        0.754820  \n",
      "32  Tanya Branning        0.798135  \n",
      "37  Tanya Branning        0.925499  \n",
      "39  Tanya Branning        0.680529  \n",
      "42  Tanya Branning        0.825568  \n",
      "45  Tanya Branning        0.825769  \n",
      "50  Tanya Branning        0.538793  \n",
      "53  Tanya Branning        0.668164  \n",
      "54  Tanya Branning        0.637799  \n",
      "56  Tanya Branning        0.821552  \n",
      "57  Tanya Branning        0.630160  \n"
     ]
    }
   ],
   "source": [
    "#filtering ZeroShot based on facerec results\n",
    "#classification_results_path='../other_experiments/Hugging_Face_classification/soap_opera_scale_Max_Jack_Tanya.csv'\n",
    "#classification_results_path='../other_experiments/Hugging_Face_classification/events_ranking_Max_Jack_Tanya.csv'\n",
    "#classification_results_path='../other_experiments/Hugging_Face_classification/life_scale_ranking_Max_Jack_Tanya.csv'\n",
    "#classification_results_path2='../other_experiments/Hugging_Face_classification/life_scale_ranking_end_Max_Jack_Tanya.csv'\n",
    "#classification_results_path='../other_experiments/Hugging_Face_classification/daily_life_Max_Jack_Tanya.csv'\n",
    "#classification_results_path='../other_experiments/Hugging_Face_classification/reduced_life_scale_Max_Jack_Tanya.csv'\n",
    "classification_results_path='../other_experiments/Hugging_Face_classification/reduced_life_scale_Max_Jack_Tanya _clean.csv'\n",
    "hf_results=pd.read_csv(classification_results_path)\n",
    "#hf_results2=pd.read_csv(classification_results_path2)\n",
    "#hf_results= pd.merge(hf_results,hf_results2,on=['transcript','Unnamed: 0', 'Unnamed: 0.1','begin', 'end', 'filename','shot_id'])\n",
    "#hf_results=hf_results.sort_values(by=['score'],ascending=False)\n",
    "#hf_results['filename']=hf_results['filename_y'].str.replace('.xml','')\n",
    "hf_results['filename']=hf_results['filename'].str.replace('.xml','')\n",
    "#print(hf_results)\n",
    "#print(hf_results.columns)\n",
    "#print(hf_results.sort_values(by=['score'],ascending=True)[0:50])\n",
    "#cols_to_keep=['index','begin', 'end', 'filename', 'shot_id', 'transcript','Marital separation','score']#,'blackmailed','institutionalized for emotional problem','illegitimate child','extramarital affair']\n",
    "#cols_to_keep=['Unnamed: 0_x', 'Unnamed: 0.1_x','begin_x', 'end_x', 'filename_x', 'shot_id_x', 'transcript','score_x','Unnamed: 0_y', 'Unnamed: 0.1_y','begin_y', 'end_y', 'filename_y', 'shot_id_y', 'transcript_y','score_y']\n",
    "cols_to_keep=['index','begin', 'end', 'filename', 'shot_id', 'transcript','score','Marital separation','New family member','Business readjustment', 'Money change', 'Work change', 'Arguing','Mortgage', 'Child leaving home', 'Trouble with in-laws', 'Achievement']\n",
    "#min_max_scaler=MinMaxScaler()\n",
    "min_max_scaler=StandardScaler()\n",
    "#hf_results[['death relative', 'Divorce', 'Imprisonment', 'injury illness', 'Marriage','Fired', 'Marital reconciliation', 'Retirement', 'Pregnancy','Sexual difficulties']] = min_max_scaler.fit_transform(hf_results[['death relative', 'Divorce', 'Imprisonment', 'injury illness', 'Marriage','Fired', 'Marital reconciliation', 'Retirement', 'Pregnancy','Sexual difficulties']])\n",
    "\n",
    "#print(hf_results)\n",
    "#'Unnamed: 0_x','Unnamed: 0_y']\n",
    "#hf_results[['Death', 'Divorce', 'Imprisonment', 'injury illness', 'Marriage','Fired', 'Marital reconciliation', 'Retirement', 'Pregnancy','Sexual difficulties']]=10*hf_results[['Death', 'Divorce', 'Imprisonment', 'injury illness', 'Marriage','Fired', 'Marital reconciliation', 'Retirement', 'Pregnancy','Sexual difficulties']]\n",
    "hf_results['score_max'] = hf_results.drop(cols_to_keep, axis=1).max(axis=1)\n",
    "\n",
    "hf_results['unique_id']=hf_results['shot_id'].map(str)+'_'+hf_results['filename'].map(str)\n",
    "#print(hf_results['unique_id'])\n",
    "\n",
    "hf_results=hf_results.sort_values(by=['score_max'],ascending=False)\n",
    "#print(hf_results.loc[hf_results['shot_id']==47])\n",
    "\n",
    "#df.loc[df['column_name'] == some_value]\n",
    "#print(hf_results[0:20])\n",
    "#print(hf_results.columns)\n",
    "filtered_results = pd.merge(hf_results,df_kept,on='unique_id')\n",
    "filtered_result_char=filtered_results[filtered_results.character == 'Tanya Branning']\n",
    "#filtered_result_char=filtered_result_char[filtered_result_char.transcript.str.len()>90]\n",
    "\n",
    "#filtered_result_char.to_csv('top_sentences_Tanya')\n",
    "#print(filtered_result_char.loc[[1]])\n",
    "print(filtered_result_char[0:20])\n"
   ]
  },
  {
   "cell_type": "code",
   "execution_count": 6,
   "metadata": {},
   "outputs": [
    {
     "name": "stdout",
     "output_type": "stream",
     "text": [
      "30\n"
     ]
    }
   ],
   "source": [
    "print(len('Cos he s taken this very hard.'))"
   ]
  },
  {
   "cell_type": "code",
   "execution_count": 93,
   "metadata": {},
   "outputs": [],
   "source": [
    "segs = {}\n",
    "for file in recs:\n",
    "    seg_start = 0\n",
    "    segs[file] = []\n",
    "    sorted_ids = list(recs[file])\n",
    "    if seg_start == 0:\n",
    "        seg_start = sorted_ids[0]\n",
    "        cur = sorted_ids[0]\n",
    "    \n",
    "    for i, e in enumerate(sorted_ids[1:]):\n",
    "        if e == cur + 1:\n",
    "            cur += 1\n",
    "        elif i == len(recs) - 1 and e == cur + 1:\n",
    "            segs[file].append((seg_start, e))\n",
    "        else:\n",
    "            if cur - seg_start > (0 if keep == 'all' else (keep * 2 + 1)):\n",
    "                segs[file].append((seg_start, cur))\n",
    "            seg_start = e\n",
    "            cur = e"
   ]
  },
  {
   "cell_type": "code",
   "execution_count": null,
   "metadata": {},
   "outputs": [],
   "source": []
  },
  {
   "cell_type": "code",
   "execution_count": 95,
   "metadata": {},
   "outputs": [
    {
     "data": {
      "text/plain": [
       "[(94, 108),\n",
       " (161, 170),\n",
       " (273, 282),\n",
       " (363, 369),\n",
       " (413, 422),\n",
       " (471, 477),\n",
       " (553, 559),\n",
       " (605, 611),\n",
       " (636, 645),\n",
       " (657, 663),\n",
       " (776, 785),\n",
       " (899, 906),\n",
       " (952, 958),\n",
       " (992, 1004),\n",
       " (1178, 1186),\n",
       " (1214, 1231),\n",
       " (1359, 1369),\n",
       " (1466, 1472),\n",
       " (1554, 1563),\n",
       " (1607, 1618),\n",
       " (1629, 1635),\n",
       " (1645, 1653),\n",
       " (2012, 2019)]"
      ]
     },
     "execution_count": 95,
     "metadata": {},
     "output_type": "execute_result"
    }
   ],
   "source": [
    "segs['5245830105934359183.mp4']"
   ]
  },
  {
   "cell_type": "code",
   "execution_count": 96,
   "metadata": {},
   "outputs": [
    {
     "name": "stdout",
     "output_type": "stream",
     "text": [
      "742\n"
     ]
    }
   ],
   "source": [
    "# if I keep everything\n",
    "s = \"\"\"5555360238519252381.mp4 100\n",
    "5531550228324592939.mp4 128\n",
    "5544620672795594434.mp4 31\n",
    "5547193787702629969.mp4 96\n",
    "5549784941472309008.mp4 100\n",
    "5552368364300855101.mp4 108\n",
    "5555325449284154780.mp4 89\n",
    "5534228999422914578.mp4 129\n",
    "5542003749222140011.mp4 87\n",
    "5544574287152993687.mp4 100\n",
    "5539381671692122744.mp4 117\"\"\"\n",
    "# print(s)\n",
    "print(sum([len(segs[ep]) for ep in segs]))"
   ]
  },
  {
   "cell_type": "code",
   "execution_count": 115,
   "metadata": {},
   "outputs": [
    {
     "name": "stdout",
     "output_type": "stream",
     "text": [
      "5313398531435045858.mp4\n",
      "5258818087037440299.mp4\n",
      "5308226531817199474.mp4\n",
      "5271844722846213628.mp4\n",
      "5253646087419594905.mp4\n",
      "5318609185758554501.mp4\n",
      "5321170704253895214.mp4\n",
      "5274434588125702436.mp4\n",
      "5251033029316736209.mp4\n",
      "5269245838135402929.mp4\n",
      "5245830105934359183.mp4\n",
      "5300433743159556513.mp4\n",
      "5248439298566680341.mp4\n",
      "5310822839547632763.mp4\n",
      "5305617339184877785.mp4\n",
      "5316007724067368375.mp4\n",
      "5266645664934403562.mp4\n",
      "5256228221757951173.mp4\n",
      "5264050645694159353.mp4\n",
      "5300410550331962313.mp4\n",
      "5303026185415228226.mp4\n",
      "5323778608396028180.mp4\n"
     ]
    }
   ],
   "source": [
    "timed_segs = {}\n",
    "for ep in segs:\n",
    "    timed_segs[ep] = []\n",
    "    print(ep)\n",
    "    for s, e in segs[ep]:\n",
    "        try:\n",
    "            timed_segs[ep].append((shots_starts[ep][s], shots_ends[ep][e]))\n",
    "        except Exception as ex:\n",
    "            print('@', ep, s, e)\n",
    "            print(str(ex))"
   ]
  },
  {
   "cell_type": "code",
   "execution_count": 116,
   "metadata": {},
   "outputs": [
    {
     "data": {
      "text/plain": [
       "[(319.11, 370.13),\n",
       " (610.16, 632.08),\n",
       " (981.07, 1019.12),\n",
       " (1258.1, 1290.18),\n",
       " (1478.07, 1504.11),\n",
       " (1671.24, 1688.08),\n",
       " (1912.17, 1929.15),\n",
       " (2062.08, 2098.03),\n",
       " (2141.22, 2192.23),\n",
       " (2221.15, 2257.21),\n",
       " (2572.01, 2634.01),\n",
       " (2978.13, 2998.09),\n",
       " (3159.09, 3179.08),\n",
       " (3257.13, 3293.2),\n",
       " (3842.07, 3946.22),\n",
       " (4007.22, 4057.0),\n",
       " (4400.1, 4424.24),\n",
       " (4644.03, 4657.17),\n",
       " (5017.0, 5061.01),\n",
       " (5155.08, 5275.03),\n",
       " (5299.18, 5319.0),\n",
       " (5354.21, 5384.14),\n",
       " (6620.14, 6642.14)]"
      ]
     },
     "execution_count": 116,
     "metadata": {},
     "output_type": "execute_result"
    }
   ],
   "source": [
    "timed_segs['5245830105934359183.mp4']"
   ]
  },
  {
   "cell_type": "code",
   "execution_count": 117,
   "metadata": {},
   "outputs": [
    {
     "data": {
      "text/plain": [
       "[(94, 108),\n",
       " (161, 170),\n",
       " (273, 282),\n",
       " (363, 369),\n",
       " (413, 422),\n",
       " (471, 477),\n",
       " (553, 559),\n",
       " (605, 611),\n",
       " (636, 645),\n",
       " (657, 663),\n",
       " (776, 785),\n",
       " (899, 906),\n",
       " (952, 958),\n",
       " (992, 1004),\n",
       " (1178, 1186),\n",
       " (1214, 1231),\n",
       " (1359, 1369),\n",
       " (1466, 1472),\n",
       " (1554, 1563),\n",
       " (1607, 1618),\n",
       " (1629, 1635),\n",
       " (1645, 1653),\n",
       " (2012, 2019)]"
      ]
     },
     "execution_count": 117,
     "metadata": {},
     "output_type": "execute_result"
    }
   ],
   "source": [
    "segs['5245830105934359183.mp4']"
   ]
  },
  {
   "cell_type": "code",
   "execution_count": 119,
   "metadata": {},
   "outputs": [
    {
     "name": "stdout",
     "output_type": "stream",
     "text": [
      "Shots: 8094\n",
      "Segments: 742\n"
     ]
    }
   ],
   "source": [
    "total_segments = 0\n",
    "total_shots = 0\n",
    "for ep in segs:\n",
    "    total_segments += len(segs[ep])\n",
    "    total_shots += sum([e - s for s, e in segs[ep]])\n",
    "print('Shots:', total_shots)\n",
    "print('Segments:', total_segments)"
   ]
  },
  {
   "cell_type": "code",
   "execution_count": 120,
   "metadata": {},
   "outputs": [],
   "source": [
    "pickle.dump(timed_segs, open(f'segs/segments_add{add}_keep{keep}_cut{cut}.pickle', 'wb'))"
   ]
  }
 ],
 "metadata": {
  "kernelspec": {
   "display_name": "Python 3",
   "language": "python",
   "name": "python3"
  },
  "language_info": {
   "codemirror_mode": {
    "name": "ipython",
    "version": 3
   },
   "file_extension": ".py",
   "mimetype": "text/x-python",
   "name": "python",
   "nbconvert_exporter": "python",
   "pygments_lexer": "ipython3",
   "version": "3.8.2"
  }
 },
 "nbformat": 4,
 "nbformat_minor": 2
}
