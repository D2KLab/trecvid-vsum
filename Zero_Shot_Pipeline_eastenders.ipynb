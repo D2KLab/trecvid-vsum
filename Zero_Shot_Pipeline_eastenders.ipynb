{
 "cells": [
  {
   "cell_type": "code",
   "execution_count": 1,
   "metadata": {
    "id": "yTBP_QYuu6tc"
   },
   "outputs": [],
   "source": [
    "#!pip install --upgrade pip\n",
    "#!pip install transformers==3.1.0"
   ]
  },
  {
   "cell_type": "code",
   "execution_count": 1,
   "metadata": {
    "id": "TiU_ES5tzpMH"
   },
   "outputs": [
    {
     "name": "stderr",
     "output_type": "stream",
     "text": [
      "I0802 19:35:29.180007 139830866601792 driver.py:124] Generating grammar tables from /usr/lib/python3.6/lib2to3/Grammar.txt\n",
      "I0802 19:35:29.203221 139830866601792 driver.py:124] Generating grammar tables from /usr/lib/python3.6/lib2to3/PatternGrammar.txt\n"
     ]
    }
   ],
   "source": [
    "from transformers import pipeline\n",
    "from os import listdir\n",
    "import pandas as pd\n",
    "from tqdm import tqdm\n",
    "from sklearn.metrics import f1_score\n",
    "from sklearn.preprocessing import MinMaxScaler, StandardScaler\n",
    "import warnings\n",
    "warnings.simplefilter(action='ignore', category=FutureWarning)\n",
    "import numpy as np"
   ]
  },
  {
   "cell_type": "code",
   "execution_count": 6,
   "metadata": {
    "id": "spkccRiv0CB3"
   },
   "outputs": [
    {
     "name": "stdout",
     "output_type": "stream",
     "text": [
      "\n"
     ]
    }
   ],
   "source": [
    "classifier = pipeline(\"zero-shot-classification\", device=0) # to utilize GPU\n"
   ]
  },
  {
   "cell_type": "code",
   "execution_count": 247,
   "metadata": {},
   "outputs": [],
   "source": [
    "#path_screenplays_scenes='./transcripts/shot-aligned_transcripts_2021_Max_Jack_Tanya.csv'\n",
    "path_screenplays_scenes='./transcripts/shot-aligned_transcripts_2021_Peggy_Archie.csv'\n",
    "\n",
    "\n",
    "\n"
   ]
  },
  {
   "cell_type": "code",
   "execution_count": 233,
   "metadata": {
    "colab": {
     "base_uri": "https://localhost:8080/",
     "height": 69
    },
    "id": "hkfE6NRA0Dzy",
    "outputId": "8b3f9e37-3e46-4b25-813b-c5fa7bbc3c97"
   },
   "outputs": [],
   "source": [
    "\n",
    "\n",
    "def get_results(df, classifier, topic_labels):\n",
    "    df['topic'] = None\n",
    "    df['score'] = None\n",
    "    \n",
    "    for i in tqdm(df.index):\n",
    "        text = df.loc[i, 'transcript']\n",
    "        if text is not None:\n",
    "            result = classifier(text, topic_labels)\n",
    "            #df.loc[i, 'topic'] = str(str(result['labels'][0])+\"+\"+str(result['labels'][1]))\n",
    "            #df.loc[i, 'score'] = str(str(result['scores'][0])+\"+\"+str(result['scores'][1]) \n",
    "            df.loc[i, 'topic'] = result['labels'][0]\n",
    "            df.loc[i, 'score'] = result['scores'][0]\n",
    "            #if result['labels'][0]=='surprise':\n",
    "                #df.loc[i, 'score_hf'] = result['scores'][0]\n",
    "            #else:\n",
    "                #df.loc[i, 'score_hf'] = -1\n",
    "            \n",
    "    return df\n",
    "\n",
    "\n",
    "    \n",
    "    \n",
    "    \n",
    "\n",
    "    \n",
    "\n",
    "\n"
   ]
  },
  {
   "cell_type": "code",
   "execution_count": 2,
   "metadata": {},
   "outputs": [
    {
     "name": "stdout",
     "output_type": "stream",
     "text": [
      "\n"
     ]
    }
   ],
   "source": [
    "#Initial experiments with other candidate labels\n",
    "\"\"\"candidate_labels_df=pd.read_csv('life_events_scale.csv',sep='\\t', names=['topic','weight'])\n",
    "candidate_labels_df=candidate_labels_df\n",
    "\n",
    "\n",
    "candidate_labels=dict(zip(candidate_labels_df.topic, candidate_labels_df.weight))\n",
    "for topic,weight in tqdm(candidate_labels.items()):\n",
    "    print(topic)\n",
    "    print(weight)\"\"\"\n",
    "    \n"
   ]
  },
  {
   "cell_type": "code",
   "execution_count": 223,
   "metadata": {},
   "outputs": [],
   "source": [
    "soap_opera_scale={'extramarital affair': 1/1.98, 'get divorced': 1/1.96,'illegitimate child': 1/1.45,'institutionalized for emotional problem': 1/1.43,'happily married': 1/4.05,'serious accident': 1/2.96,'murdered': 1/1.81,'attempt suicide': 1/1.26,'blackmailed': 1/1.86,'unfaithful spouse': 1/2.23,'sexually assaulted': 1/2.60,'abortion': 1/1.41}"
   ]
  },
  {
   "cell_type": "code",
   "execution_count": 249,
   "metadata": {},
   "outputs": [],
   "source": [
    "def get_results_several_binary(df, classifier, topic_labels):\n",
    "    for topic,weight in tqdm(topic_labels.items()):\n",
    "        df[topic] = None\n",
    "        for i in df.index:\n",
    "            text = df.loc[i, 'transcript']\n",
    "            if text is not None:\n",
    "                result = classifier(text,topic,multi_class=False)\n",
    "                df.loc[i, topic] = result['scores'][0]*weight\n",
    "        #df.to_csv('soap_opera_Peggy_Archie.csv')\n",
    "        \n",
    "\n",
    "          \n",
    "    return df"
   ]
  },
  {
   "cell_type": "code",
   "execution_count": 4,
   "metadata": {},
   "outputs": [
    {
     "name": "stdout",
     "output_type": "stream",
     "text": [
      "\n"
     ]
    }
   ],
   "source": [
    "\n",
    "first_results=get_results_several_binary(df_with_text,classifier,candidate_labels)\n",
    "cols_to_keep=['Unnamed: 0', 'begin', 'end', 'filename', 'shot_id', 'transcript']\n",
    "first_results['score'] = first_results.drop(cols_to_keep, axis=1).max(axis=1)\n",
    "first_results=first_results.sort_values(by=['score'],ascending=False)\n",
    "first_results.to_csv('soap_opera_Peggy_Archie.csv')\n",
    "\n",
    "    \n",
    "    \n"
   ]
  }
 ],
 "metadata": {
  "colab": {
   "collapsed_sections": [],
   "name": "🤗 Zero Shot Pipeline.ipynb",
   "provenance": []
  },
  "kernelspec": {
   "display_name": "Python 3",
   "language": "python",
   "name": "python3"
  },
  "language_info": {
   "codemirror_mode": {
    "name": "ipython",
    "version": 3
   },
   "file_extension": ".py",
   "mimetype": "text/x-python",
   "name": "python",
   "nbconvert_exporter": "python",
   "pygments_lexer": "ipython3",
   "version": "3.6.9"
  }
 },
 "nbformat": 4,
 "nbformat_minor": 1
}
