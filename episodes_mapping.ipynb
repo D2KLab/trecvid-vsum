{
 "cells": [
  {
   "cell_type": "code",
   "execution_count": 1,
   "metadata": {},
   "outputs": [],
   "source": [
    "import pickle"
   ]
  },
  {
   "cell_type": "code",
   "execution_count": 2,
   "metadata": {},
   "outputs": [],
   "source": [
    "results = pickle.load(open('scraping/episodes_data_Max_Jack_Tanya_2021.pickle', 'rb'))"
   ]
  },
  {
   "cell_type": "code",
   "execution_count": 3,
   "metadata": {},
   "outputs": [
    {
     "data": {
      "text/plain": [
       "dict_keys(['5245830105934359183.mp4', '5248439298566680341.mp4', '5251033029316736209.mp4', '5253646087419594905.mp4', '5256228221757951173.mp4', '5258818087037440299.mp4', '5264050645694159353.mp4', '5266645664934403562.mp4', '5269245838135402929.mp4', '5271844722846213628.mp4', '5274434588125702436.mp4'])"
      ]
     },
     "execution_count": 3,
     "metadata": {},
     "output_type": "execute_result"
    }
   ],
   "source": [
    "results.keys()"
   ]
  },
  {
   "cell_type": "code",
   "execution_count": 4,
   "metadata": {},
   "outputs": [
    {
     "data": {
      "text/plain": [
       "dict_keys(['url', 'airing_date', 'previous_airing', 'episodes_descriptions', 'episodes_web_description', 'characters', 'summaries', 'credits'])"
      ]
     },
     "execution_count": 4,
     "metadata": {},
     "output_type": "execute_result"
    }
   ],
   "source": [
    "results['5245830105934359183.mp4'].keys()"
   ]
  },
  {
   "cell_type": "code",
   "execution_count": 5,
   "metadata": {},
   "outputs": [
    {
     "name": "stdout",
     "output_type": "stream",
     "text": [
      "http://www.bbc.co.uk/programmes/b00djm23 5245830105934359183.mp4 2008-09-14\n",
      "http://www.bbc.co.uk/programmes/b00dn8ff 5248439298566680341.mp4 2008-09-21\n",
      "http://www.bbc.co.uk/programmes/b00dp23s 5251033029316736209.mp4 2008-09-28\n",
      "http://www.bbc.co.uk/programmes/b00dshgz 5253646087419594905.mp4 2008-10-05\n",
      "http://www.bbc.co.uk/programmes/b00dxk39 5256228221757951173.mp4 2008-10-12\n",
      "http://www.bbc.co.uk/programmes/b00f0sw1 5258818087037440299.mp4 2008-10-19\n",
      "http://www.bbc.co.uk/programmes/b00f91s9 5264050645694159353.mp4 2008-11-02\n",
      "http://www.bbc.co.uk/programmes/b00fgq3j 5266645664934403562.mp4 2008-11-09\n",
      "http://www.bbc.co.uk/programmes/b00flx4v 5269245838135402929.mp4 2008-11-16\n",
      "http://www.bbc.co.uk/programmes/b00fnr3k 5271844722846213628.mp4 2008-11-23\n",
      "http://www.bbc.co.uk/programmes/b00fszbh 5274434588125702436.mp4 2008-11-30\n"
     ]
    }
   ],
   "source": [
    "for ep in results:\n",
    "    print(results[ep]['url'], ep, str(results[ep]['airing_date'])[:10])"
   ]
  },
  {
   "cell_type": "code",
   "execution_count": 6,
   "metadata": {},
   "outputs": [],
   "source": [
    "results = pickle.load(open('scraping/episodes_data_Peggy_Archie_2021.pickle', 'rb'))"
   ]
  },
  {
   "cell_type": "code",
   "execution_count": 7,
   "metadata": {},
   "outputs": [
    {
     "name": "stdout",
     "output_type": "stream",
     "text": [
      "http://www.bbc.co.uk/programmes/b00hgmgx 5300410550331962313.mp4 2009-02-08\n",
      "http://www.bbc.co.uk/programmes/b00hpdrs 5300433743159556513.mp4 2009-02-08\n",
      "http://www.bbc.co.uk/programmes/b00hmj3j 5303026185415228226.mp4 2009-02-15\n",
      "http://www.bbc.co.uk/programmes/b00j06pc 5305617339184877785.mp4 2009-02-22\n",
      "http://www.bbc.co.uk/programmes/b00hxyb7 5308226531817199474.mp4 2009-03-01\n",
      "http://www.bbc.co.uk/programmes/b00j3vrn 5310822839547632763.mp4 2009-03-08\n",
      "http://www.bbc.co.uk/programmes/b00j8dq4 5313398531435045858.mp4 2009-03-15\n",
      "http://www.bbc.co.uk/programmes/b00j9lz5 5316007724067368375.mp4 2009-03-22\n",
      "http://www.bbc.co.uk/programmes/b00jkcrg 5318609185758554501.mp4 2009-03-29\n",
      "http://www.bbc.co.uk/programmes/b00jvb1b 5321170704253895214.mp4 2009-04-05\n",
      "http://www.bbc.co.uk/programmes/b00jqg3p 5323778608396028180.mp4 2009-04-12\n"
     ]
    }
   ],
   "source": [
    "for ep in results:\n",
    "    print(results[ep]['url'], ep, str(results[ep]['airing_date'])[:10])"
   ]
  },
  {
   "cell_type": "markdown",
   "metadata": {},
   "source": [
    "# Getting the URIS"
   ]
  },
  {
   "cell_type": "code",
   "execution_count": 10,
   "metadata": {},
   "outputs": [
    {
     "name": "stdout",
     "output_type": "stream",
     "text": [
      "Episodes numbers:\n",
      "{'60': '5245830105934359183.mp4',\n",
      " '61': '5248439298566680341.mp4',\n",
      " '62': '5251033029316736209.mp4',\n",
      " '63': '5253646087419594905.mp4',\n",
      " '64': '5256228221757951173.mp4',\n",
      " '65': '5258818087037440299.mp4',\n",
      " '66': '5264050645694159353.mp4',\n",
      " '67': '5266645664934403562.mp4',\n",
      " '68': '5269245838135402929.mp4',\n",
      " '69': '5271844722846213628.mp4',\n",
      " '70': '5274434588125702436.mp4',\n",
      " '79': '5300410550331962313.mp4',\n",
      " '80': '5300433743159556513.mp4',\n",
      " '81': '5303026185415228226.mp4',\n",
      " '82': '5305617339184877785.mp4',\n",
      " '83': '5308226531817199474.mp4',\n",
      " '84': '5310822839547632763.mp4',\n",
      " '85': '5313398531435045858.mp4',\n",
      " '86': '5316007724067368375.mp4',\n",
      " '87': '5318609185758554501.mp4',\n",
      " '88': '5321170704253895214.mp4',\n",
      " '89': '5323778608396028180.mp4'}\n",
      "Episodes dates:\n",
      "{'5245830105934359183.mp4': '14/09/2008',\n",
      " '5248439298566680341.mp4': '21/09/2008',\n",
      " '5251033029316736209.mp4': '28/09/2008',\n",
      " '5253646087419594905.mp4': '05/10/2008',\n",
      " '5256228221757951173.mp4': '12/10/2008',\n",
      " '5258818087037440299.mp4': '19/10/2008',\n",
      " '5264050645694159353.mp4': '02/11/2008',\n",
      " '5266645664934403562.mp4': '09/11/2008',\n",
      " '5269245838135402929.mp4': '16/11/2008',\n",
      " '5271844722846213628.mp4': '23/11/2008',\n",
      " '5274434588125702436.mp4': '30/11/2008',\n",
      " '5300410550331962313.mp4': '08/02/2009',\n",
      " '5300433743159556513.mp4': '08/02/2009',\n",
      " '5303026185415228226.mp4': '15/02/2009',\n",
      " '5305617339184877785.mp4': '22/02/2009',\n",
      " '5308226531817199474.mp4': '01/03/2009',\n",
      " '5310822839547632763.mp4': '08/03/2009',\n",
      " '5313398531435045858.mp4': '15/03/2009',\n",
      " '5316007724067368375.mp4': '22/03/2009',\n",
      " '5318609185758554501.mp4': '29/03/2009',\n",
      " '5321170704253895214.mp4': '05/04/2009',\n",
      " '5323778608396028180.mp4': '12/04/2009'}\n"
     ]
    }
   ],
   "source": [
    "\n",
    "import time\n",
    "import pickle \n",
    "import datetime\n",
    "import requests\n",
    "import urllib.request\n",
    "from pprint import pprint\n",
    "from bs4 import BeautifulSoup as bs\n",
    "from urllib.request import urlopen\n",
    "import xml.etree.ElementTree as xml\n",
    "\n",
    "strptime = datetime.datetime.strptime\n",
    "\n",
    "# mapping episode numbers to files\n",
    "episodes_numbers = list(map(str, range(60, 70+1))) + list(map(str, range(79, 89+1)))\n",
    "videos_data      = xml.parse('scraping/eastenders.collection.xml').getroot().findall(\"./VideoFile\")\n",
    "\n",
    "episodes_filenames = {v.find('filename').text: v.find('id').text \n",
    "                      for v in videos_data\n",
    "                      if v.find('id').text in episodes_numbers}\n",
    "\n",
    "print('Episodes numbers:')\n",
    "pprint({v:k for k, v in episodes_filenames.items()})\n",
    "\n",
    "\n",
    "episodes_urls            = {}\n",
    "episodes_dates           = {}\n",
    "episodes_descriptions    = {}\n",
    "episodes_web_description = {}\n",
    "episodes_characters      = {}\n",
    "\n",
    "\n",
    "filepath = 'scraping/eastenders.episodeDescriptions.xml'\n",
    "episodes = xml.parse(filepath).getroot().findall(\"./episode\")\n",
    "\n",
    "for episode in episodes:\n",
    "    episode_url      = episode.find(\"./episodeUrl\").text\n",
    "    episode_date     = episode.find(\"./episodeDate\").text\n",
    "    episode_filename = episode.find(\"./episodeFile\").text\n",
    "    episode_description     = episode.find(\"./episodeDescription\").text\n",
    "    episode_web_description = episode.find(\"./episodeWebDescription\").text\n",
    "    episode_characters      = episode.find(\"./episodeCharacters\").text\n",
    "    \n",
    "    if episode_filename in episodes_filenames:\n",
    "        episodes_urls[episode_filename]            = episode_url\n",
    "        episodes_dates[episode_filename]           = episode_date\n",
    "        episodes_descriptions[episode_filename]    = episode_description\n",
    "        episodes_web_description[episode_filename] = episode_web_description\n",
    "        episodes_characters[episode_filename]      = episode_characters.split('; ')\n",
    "\n",
    "        \n",
    "filepath = 'scraping/eastenders.episodeDescriptions.xml'\n",
    "episodes = xml.parse(filepath).getroot().findall(\"./episode\")\n",
    "\n",
    "print('Episodes dates:')\n",
    "pprint(episodes_dates)"
   ]
  },
  {
   "cell_type": "code",
   "execution_count": null,
   "metadata": {},
   "outputs": [],
   "source": []
  },
  {
   "cell_type": "code",
   "execution_count": 52,
   "metadata": {},
   "outputs": [
    {
     "name": "stdout",
     "output_type": "stream",
     "text": [
      "Earliest date: 2008-09-07 00:00:00\n",
      "Latest date: 2008-11-30 00:00:00\n"
     ]
    }
   ],
   "source": [
    "wiki_url = 'https://eastenders.fandom.com/wiki/2008'\n",
    "page_content = bs(urlopen(wiki_url), 'html.parser')\n",
    "earliest_date, latest_date = None, None\n",
    "\n",
    "for filename, url in episodes_urls.items():\n",
    "    page_content = bs(urlopen(url), 'html.parser')\n",
    "    airing_date = page_content.find('span', {'class': 'broadcast-event__date'}).get_text()\n",
    "    airing_date = strptime(airing_date, '%a %d %b %Y')\n",
    "\n",
    "    if latest_date == None or earliest_date < airing_date:\n",
    "        latest_date = airing_date \n",
    "\n",
    "    prev_date = page_content.find('a', {'class': 'block-link__target'}).get_text()\n",
    "    try:\n",
    "        prev_date = strptime(prev_date, '%d/%m/%Y')\n",
    "        if earliest_date == None or earliest_date > prev_date:\n",
    "            earliest_date = prev_date \n",
    "    except Exception as e:\n",
    "        continue\n",
    "        # print('Exception: ', str(e))\n",
    "\n",
    "print(\"Earliest date:\", earliest_date)\n",
    "print(\"Latest date:\", latest_date)\n"
   ]
  },
  {
   "cell_type": "code",
   "execution_count": 56,
   "metadata": {
    "scrolled": false
   },
   "outputs": [
    {
     "name": "stdout",
     "output_type": "stream",
     "text": [
      "8 September 2008 https://eastenders.fandom.com/wiki/8_September_2008\n",
      "9 September 2008 https://eastenders.fandom.com/wiki/9_September_2008\n",
      "11 September 2008 https://eastenders.fandom.com/wiki/11_September_2008\n",
      "12 September 2008 https://eastenders.fandom.com/wiki/12_September_2008\n",
      "15 September 2008 https://eastenders.fandom.com/wiki/15_September_2008\n",
      "16 September 2008 https://eastenders.fandom.com/wiki/16_September_2008\n",
      "18 September 2008 https://eastenders.fandom.com/wiki/18_September_2008\n",
      "19 September 2008 https://eastenders.fandom.com/wiki/19_September_2008\n",
      "22 September 2008 https://eastenders.fandom.com/wiki/22_September_2008\n",
      "23 September 2008 https://eastenders.fandom.com/wiki/23_September_2008\n",
      "25 September 2008 https://eastenders.fandom.com/wiki/25_September_2008\n",
      "26 September 2008 https://eastenders.fandom.com/wiki/26_September_2008\n",
      "29 September 2008 https://eastenders.fandom.com/wiki/29_September_2008\n",
      "30 September 2008 https://eastenders.fandom.com/wiki/30_September_2008\n",
      "2 October 2008 https://eastenders.fandom.com/wiki/2_October_2008\n",
      "3 October 2008 https://eastenders.fandom.com/wiki/3_October_2008\n",
      "6 October 2008 https://eastenders.fandom.com/wiki/6_October_2008\n",
      "7 October 2008 https://eastenders.fandom.com/wiki/7_October_2008\n",
      "9 October 2008 https://eastenders.fandom.com/wiki/9_October_2008\n",
      "10 October 2008 https://eastenders.fandom.com/wiki/10_October_2008\n",
      "13 October 2008 https://eastenders.fandom.com/wiki/13_October_2008\n",
      "14 October 2008 https://eastenders.fandom.com/wiki/14_October_2008\n",
      "16 October 2008 https://eastenders.fandom.com/wiki/16_October_2008\n",
      "17 October 2008 https://eastenders.fandom.com/wiki/17_October_2008\n",
      "20 October 2008 https://eastenders.fandom.com/wiki/20_October_2008\n",
      "21 October 2008 https://eastenders.fandom.com/wiki/21_October_2008\n",
      "23 October 2008 https://eastenders.fandom.com/wiki/23_October_2008\n",
      "24 October 2008 https://eastenders.fandom.com/wiki/24_October_2008\n",
      "27 October 2008 https://eastenders.fandom.com/wiki/27_October_2008\n",
      "28 October 2008 https://eastenders.fandom.com/wiki/28_October_2008\n",
      "30 October 2008 https://eastenders.fandom.com/wiki/30_October_2008\n",
      "31 October 2008 https://eastenders.fandom.com/wiki/31_October_2008\n",
      "3 November 2008 https://eastenders.fandom.com/wiki/3_November_2008\n",
      "4 November 2008 https://eastenders.fandom.com/wiki/4_November_2008\n",
      "6 November 2008 https://eastenders.fandom.com/wiki/6_November_2008\n",
      "7 November 2008 https://eastenders.fandom.com/wiki/7_November_2008\n",
      "10 November 2008 https://eastenders.fandom.com/wiki/10_November_2008\n",
      "11 November 2008 https://eastenders.fandom.com/wiki/11_November_2008\n",
      "13 November 2008 https://eastenders.fandom.com/wiki/13_November_2008\n",
      "17 November 2008 https://eastenders.fandom.com/wiki/17_November_2008\n",
      "18 November 2008 https://eastenders.fandom.com/wiki/18_November_2008\n",
      "20 November 2008 https://eastenders.fandom.com/wiki/20_November_2008\n",
      "21 November 2008 https://eastenders.fandom.com/wiki/21_November_2008\n",
      "24 November 2008 https://eastenders.fandom.com/wiki/24_November_2008\n",
      "25 November 2008 https://eastenders.fandom.com/wiki/25_November_2008\n",
      "27 November 2008 https://eastenders.fandom.com/wiki/27_November_2008\n",
      "28 November 2008 https://eastenders.fandom.com/wiki/28_November_2008\n"
     ]
    }
   ],
   "source": [
    "url = 'https://eastenders.fandom.com/wiki/2008'\n",
    "page_content = bs(urlopen(url), 'html.parser')\n",
    "table = page_content.find_all('table', {'class': 'sortable'})[2]\n",
    "\n",
    "synopses = {}\n",
    "credits = {}\n",
    "\n",
    "for row in table.find_all('a', {'class': 'mw-redirect'} ):\n",
    "    try:\n",
    "        date = row.get_text()\n",
    "        tdate = strptime(date, '%d %B %Y')\n",
    "    except:\n",
    "        continue # ignore links that don't contain dates\n",
    "    \n",
    "    if earliest_date < tdate < latest_date:\n",
    "        # scraping synopsis\n",
    "        synopses[date] = []\n",
    "        article_url = 'https://eastenders.fandom.com' + row.get('href')\n",
    "        print(date, article_url)\n",
    "        page_content = bs(urlopen(article_url), 'html.parser')\n",
    "        synopsis_title = page_content.find('h2', text='Synopsis')\n",
    "        if not synopsis_title:\n",
    "            synopsis_title = page_content.find('h2', text='Summary')\n",
    "        synopsis_paragraph = synopsis_title.find_next_sibling()\n",
    "        while synopsis_paragraph.name == 'p':\n",
    "            synopses[date].append(synopsis_paragraph.get_text())\n",
    "            synopsis_paragraph = synopsis_paragraph.find_next_sibling()\n",
    "        synopses[date] = ''.join(synopses[date])\n",
    "        \n",
    "        # scraping credits\n",
    "        credits_title = page_content.find('h2', text='Credits')\n",
    "        mapping = {}\n",
    "\n",
    "        ttable = credits_title.find_next('table')\n",
    "        if ttable:\n",
    "            tds = [td.get_text().strip() for td in ttable.find_all('td')]\n",
    "            roles = tds[::2]\n",
    "            actors = tds[1::2]\n",
    "            mapping = dict(zip(roles, actors))\n",
    "        ulists = credits_title.find_all_next('ul')\n",
    "        \n",
    "        if ulists:\n",
    "            for ulist in ulists: \n",
    "                for li in ulist.find_all('li'):\n",
    "                    if ' - ' in li.get_text():\n",
    "                        role, actor = li.get_text().split(' - ')\n",
    "                        mapping[role.strip()] = actor.strip()\n",
    "        \n",
    "        credits[date] = mapping"
   ]
  },
  {
   "cell_type": "code",
   "execution_count": 61,
   "metadata": {},
   "outputs": [
    {
     "data": {
      "text/plain": [
       "47"
      ]
     },
     "execution_count": 61,
     "metadata": {},
     "output_type": "execute_result"
    }
   ],
   "source": [
    "\"\"\"8 September 2008 https://eastenders.fandom.com/wiki/8_September_2008\n",
    "9 September 2008 https://eastenders.fandom.com/wiki/9_September_2008\n",
    "11 September 2008 https://eastenders.fandom.com/wiki/11_September_2008\n",
    "12 September 2008 https://eastenders.fandom.com/wiki/12_September_2008\n",
    "15 September 2008 https://eastenders.fandom.com/wiki/15_September_2008\n",
    "16 September 2008 https://eastenders.fandom.com/wiki/16_September_2008\n",
    "18 September 2008 https://eastenders.fandom.com/wiki/18_September_2008\n",
    "19 September 2008 https://eastenders.fandom.com/wiki/19_September_2008\n",
    "22 September 2008 https://eastenders.fandom.com/wiki/22_September_2008\n",
    "23 September 2008 https://eastenders.fandom.com/wiki/23_September_2008\n",
    "25 September 2008 https://eastenders.fandom.com/wiki/25_September_2008\n",
    "26 September 2008 https://eastenders.fandom.com/wiki/26_September_2008\n",
    "29 September 2008 https://eastenders.fandom.com/wiki/29_September_2008\n",
    "30 September 2008 https://eastenders.fandom.com/wiki/30_September_2008\n",
    "2 October 2008 https://eastenders.fandom.com/wiki/2_October_2008\n",
    "3 October 2008 https://eastenders.fandom.com/wiki/3_October_2008\n",
    "6 October 2008 https://eastenders.fandom.com/wiki/6_October_2008\n",
    "7 October 2008 https://eastenders.fandom.com/wiki/7_October_2008\n",
    "9 October 2008 https://eastenders.fandom.com/wiki/9_October_2008\n",
    "10 October 2008 https://eastenders.fandom.com/wiki/10_October_2008\n",
    "13 October 2008 https://eastenders.fandom.com/wiki/13_October_2008\n",
    "14 October 2008 https://eastenders.fandom.com/wiki/14_October_2008\n",
    "16 October 2008 https://eastenders.fandom.com/wiki/16_October_2008\n",
    "17 October 2008 https://eastenders.fandom.com/wiki/17_October_2008\n",
    "20 October 2008 https://eastenders.fandom.com/wiki/20_October_2008\n",
    "21 October 2008 https://eastenders.fandom.com/wiki/21_October_2008\n",
    "23 October 2008 https://eastenders.fandom.com/wiki/23_October_2008\n",
    "24 October 2008 https://eastenders.fandom.com/wiki/24_October_2008\n",
    "27 October 2008 https://eastenders.fandom.com/wiki/27_October_2008\n",
    "28 October 2008 https://eastenders.fandom.com/wiki/28_October_2008\n",
    "30 October 2008 https://eastenders.fandom.com/wiki/30_October_2008\n",
    "31 October 2008 https://eastenders.fandom.com/wiki/31_October_2008\n",
    "3 November 2008 https://eastenders.fandom.com/wiki/3_November_2008\n",
    "4 November 2008 https://eastenders.fandom.com/wiki/4_November_2008\n",
    "6 November 2008 https://eastenders.fandom.com/wiki/6_November_2008\n",
    "7 November 2008 https://eastenders.fandom.com/wiki/7_November_2008\n",
    "10 November 2008 https://eastenders.fandom.com/wiki/10_November_2008\n",
    "11 November 2008 https://eastenders.fandom.com/wiki/11_November_2008\n",
    "13 November 2008 https://eastenders.fandom.com/wiki/13_November_2008\n",
    "17 November 2008 https://eastenders.fandom.com/wiki/17_November_2008\n",
    "18 November 2008 https://eastenders.fandom.com/wiki/18_November_2008\n",
    "20 November 2008 https://eastenders.fandom.com/wiki/20_November_2008\n",
    "21 November 2008 https://eastenders.fandom.com/wiki/21_November_2008\n",
    "24 November 2008 https://eastenders.fandom.com/wiki/24_November_2008\n",
    "25 November 2008 https://eastenders.fandom.com/wiki/25_November_2008\n",
    "27 November 2008 https://eastenders.fandom.com/wiki/27_November_2008\n",
    "28 November 2008 https://eastenders.fandom.com/wiki/28_November_2008\"\"\".count('https')"
   ]
  },
  {
   "cell_type": "code",
   "execution_count": 57,
   "metadata": {},
   "outputs": [
    {
     "name": "stdout",
     "output_type": "stream",
     "text": [
      "Episodes numbers:\n",
      "{'5300410550331962313.mp4': '79',\n",
      " '5300433743159556513.mp4': '80',\n",
      " '5303026185415228226.mp4': '81',\n",
      " '5305617339184877785.mp4': '82',\n",
      " '5308226531817199474.mp4': '83',\n",
      " '5310822839547632763.mp4': '84',\n",
      " '5313398531435045858.mp4': '85',\n",
      " '5316007724067368375.mp4': '86',\n",
      " '5318609185758554501.mp4': '87',\n",
      " '5321170704253895214.mp4': '88',\n",
      " '5323778608396028180.mp4': '89'}\n",
      "Episodes dates:\n",
      "{'5300410550331962313.mp4': '08/02/2009',\n",
      " '5300433743159556513.mp4': '08/02/2009',\n",
      " '5303026185415228226.mp4': '15/02/2009',\n",
      " '5305617339184877785.mp4': '22/02/2009',\n",
      " '5308226531817199474.mp4': '01/03/2009',\n",
      " '5310822839547632763.mp4': '08/03/2009',\n",
      " '5313398531435045858.mp4': '15/03/2009',\n",
      " '5316007724067368375.mp4': '22/03/2009',\n",
      " '5318609185758554501.mp4': '29/03/2009',\n",
      " '5321170704253895214.mp4': '05/04/2009',\n",
      " '5323778608396028180.mp4': '12/04/2009'}\n"
     ]
    }
   ],
   "source": [
    "strptime = datetime.datetime.strptime\n",
    "\n",
    "# mapping episode numbers to files\n",
    "episodes_numbers = list(map(str, range(79, 89+1)))\n",
    "videos_data      = xml.parse('scraping/eastenders.collection.xml').getroot().findall(\"./VideoFile\")\n",
    "\n",
    "episodes_filenames = {v.find('filename').text: v.find('id').text \n",
    "                      for v in videos_data\n",
    "                      if v.find('id').text in episodes_numbers}\n",
    "\n",
    "print('Episodes numbers:')\n",
    "pprint(episodes_filenames)\n",
    "\n",
    "\n",
    "episodes_urls            = {}\n",
    "episodes_dates           = {}\n",
    "episodes_descriptions    = {}\n",
    "episodes_web_description = {}\n",
    "episodes_characters      = {}\n",
    "\n",
    "\n",
    "filepath = 'scraping/eastenders.episodeDescriptions.xml'\n",
    "episodes = xml.parse(filepath).getroot().findall(\"./episode\")\n",
    "\n",
    "for episode in episodes:\n",
    "    episode_url      = episode.find(\"./episodeUrl\").text\n",
    "    episode_date     = episode.find(\"./episodeDate\").text\n",
    "    episode_filename = episode.find(\"./episodeFile\").text\n",
    "    episode_description     = episode.find(\"./episodeDescription\").text\n",
    "    episode_web_description = episode.find(\"./episodeWebDescription\").text\n",
    "    episode_characters      = episode.find(\"./episodeCharacters\").text\n",
    "    \n",
    "    if episode_filename in episodes_filenames:\n",
    "        episodes_urls[episode_filename]            = episode_url\n",
    "        episodes_dates[episode_filename]           = episode_date\n",
    "        episodes_descriptions[episode_filename]    = episode_description\n",
    "        episodes_web_description[episode_filename] = episode_web_description\n",
    "        episodes_characters[episode_filename]      = episode_characters.split('; ')\n",
    "\n",
    "        \n",
    "filepath = 'scraping/eastenders.episodeDescriptions.xml'\n",
    "episodes = xml.parse(filepath).getroot().findall(\"./episode\")\n",
    "\n",
    "print('Episodes dates:')\n",
    "pprint(episodes_dates)"
   ]
  },
  {
   "cell_type": "code",
   "execution_count": 58,
   "metadata": {},
   "outputs": [
    {
     "name": "stdout",
     "output_type": "stream",
     "text": [
      "Earliest date: 2009-02-01 00:00:00\n",
      "Latest date: 2009-04-12 00:00:00\n"
     ]
    }
   ],
   "source": [
    "wiki_url = 'https://eastenders.fandom.com/wiki/2009'\n",
    "page_content = bs(urlopen(wiki_url), 'html.parser')\n",
    "earliest_date, latest_date = None, None\n",
    "\n",
    "for filename, url in episodes_urls.items():\n",
    "    page_content = bs(urlopen(url), 'html.parser')\n",
    "    airing_date = page_content.find('span', {'class': 'broadcast-event__date'}).get_text()\n",
    "    airing_date = strptime(airing_date, '%a %d %b %Y')\n",
    "\n",
    "    if latest_date == None or earliest_date < airing_date:\n",
    "        latest_date = airing_date \n",
    "\n",
    "    prev_date = page_content.find('a', {'class': 'block-link__target'}).get_text()\n",
    "    try:\n",
    "        prev_date = strptime(prev_date, '%d/%m/%Y')\n",
    "        if earliest_date == None or earliest_date > prev_date:\n",
    "            earliest_date = prev_date \n",
    "    except Exception as e:\n",
    "        continue\n",
    "        # print('Exception: ', str(e))\n",
    "\n",
    "print(\"Earliest date:\", earliest_date)\n",
    "print(\"Latest date:\", latest_date)\n",
    "duff duffs"
   ]
  },
  {
   "cell_type": "code",
   "execution_count": 59,
   "metadata": {},
   "outputs": [
    {
     "name": "stdout",
     "output_type": "stream",
     "text": [
      "2 February 2009 https://eastenders.fandom.com/wiki/2_February_2009\n",
      "3 February 2009 https://eastenders.fandom.com/wiki/3_February_2009\n",
      "5 February 2009 https://eastenders.fandom.com/wiki/5_February_2009\n",
      "6 February 2009 https://eastenders.fandom.com/wiki/6_February_2009\n",
      "9 February 2009 https://eastenders.fandom.com/wiki/9_February_2009\n",
      "10 February 2009 https://eastenders.fandom.com/wiki/10_February_2009\n",
      "12 February 2009 https://eastenders.fandom.com/wiki/12_February_2009\n",
      "13 February 2009 https://eastenders.fandom.com/wiki/13_February_2009\n",
      "16 February 2009 https://eastenders.fandom.com/wiki/16_February_2009\n",
      "17 February 2009 https://eastenders.fandom.com/wiki/17_February_2009\n",
      "19 February 2009 https://eastenders.fandom.com/wiki/19_February_2009\n",
      "20 February 2009 https://eastenders.fandom.com/wiki/20_February_2009\n",
      "23 February 2009 https://eastenders.fandom.com/wiki/23_February_2009\n",
      "24 February 2009 https://eastenders.fandom.com/wiki/24_February_2009\n",
      "26 February 2009 https://eastenders.fandom.com/wiki/26_February_2009\n",
      "27 February 2009 https://eastenders.fandom.com/wiki/27_February_2009\n",
      "2 March 2009 https://eastenders.fandom.com/wiki/2_March_2009\n",
      "3 March 2009 https://eastenders.fandom.com/wiki/3_March_2009\n",
      "5 March 2009 https://eastenders.fandom.com/wiki/5_March_2009\n",
      "6 March 2009 https://eastenders.fandom.com/wiki/6_March_2009\n",
      "9 March 2009 https://eastenders.fandom.com/wiki/9_March_2009\n",
      "10 March 2009 https://eastenders.fandom.com/wiki/10_March_2009\n",
      "12 March 2009 https://eastenders.fandom.com/wiki/12_March_2009\n",
      "16 March 2009 https://eastenders.fandom.com/wiki/16_March_2009\n",
      "17 March 2009 https://eastenders.fandom.com/wiki/17_March_2009\n",
      "19 March 2009 https://eastenders.fandom.com/wiki/19_March_2009\n",
      "20 March 2009 https://eastenders.fandom.com/wiki/20_March_2009\n",
      "23 March 2009 https://eastenders.fandom.com/wiki/23_March_2009\n",
      "24 March 2009 https://eastenders.fandom.com/wiki/24_March_2009\n",
      "26 March 2009 https://eastenders.fandom.com/wiki/26_March_2009\n",
      "27 March 2009 https://eastenders.fandom.com/wiki/27_March_2009\n",
      "30 March 2009 https://eastenders.fandom.com/wiki/30_March_2009\n",
      "31 March 2009 https://eastenders.fandom.com/wiki/31_March_2009\n",
      "2 April 2009 https://eastenders.fandom.com/wiki/2_April_2009\n",
      "3 April 2009 https://eastenders.fandom.com/wiki/3_April_2009\n",
      "6 April 2009 https://eastenders.fandom.com/wiki/6_April_2009\n",
      "7 April 2009 https://eastenders.fandom.com/wiki/7_April_2009\n",
      "9 April 2009 https://eastenders.fandom.com/wiki/9_April_2009\n",
      "10 April 2009 https://eastenders.fandom.com/wiki/10_April_2009\n"
     ]
    }
   ],
   "source": [
    "url = 'https://eastenders.fandom.com/wiki/2009'\n",
    "page_content = bs(urlopen(url), 'html.parser')\n",
    "table = page_content.find_all('table', {'class': 'sortable'})[2]\n",
    "\n",
    "synopses = {}\n",
    "credits = {}\n",
    "\n",
    "for row in table.find_all('a', {'class': 'mw-redirect'} ):\n",
    "    try:\n",
    "        date = row.get_text()\n",
    "        tdate = strptime(date, '%d %B %Y')\n",
    "    except:\n",
    "        continue # ignore links that don't contain dates\n",
    "    \n",
    "    if earliest_date < tdate < latest_date:\n",
    "        # scraping synopsis\n",
    "        synopses[date] = []\n",
    "        article_url = 'https://eastenders.fandom.com' + row.get('href')\n",
    "        print(date, article_url)\n",
    "        page_content = bs(urlopen(article_url), 'html.parser')\n",
    "        synopsis_title = page_content.find('h2', text='Synopsis')\n",
    "        if not synopsis_title:\n",
    "            synopsis_title = page_content.find('h2', text='Summary')\n",
    "        synopsis_paragraph = synopsis_title.find_next_sibling()\n",
    "        while synopsis_paragraph.name == 'p':\n",
    "            synopses[date].append(synopsis_paragraph.get_text())\n",
    "            synopsis_paragraph = synopsis_paragraph.find_next_sibling()\n",
    "        synopses[date] = ''.join(synopses[date])\n",
    "        \n",
    "        # scraping credits\n",
    "        credits_title = page_content.find('h2', text='Credits')\n",
    "        mapping = {}\n",
    "\n",
    "        ttable = credits_title.find_next('table')\n",
    "        if ttable:\n",
    "            tds = [td.get_text().strip() for td in ttable.find_all('td')]\n",
    "            roles = tds[::2]\n",
    "            actors = tds[1::2]\n",
    "            mapping = dict(zip(roles, actors))\n",
    "        ulists = credits_title.find_all_next('ul')\n",
    "        \n",
    "        if ulists:\n",
    "            for ulist in ulists: \n",
    "                for li in ulist.find_all('li'):\n",
    "                    if ' - ' in li.get_text():\n",
    "                        role, actor = li.get_text().split(' - ')\n",
    "                        mapping[role.strip()] = actor.strip()\n",
    "        \n",
    "        credits[date] = mapping"
   ]
  },
  {
   "cell_type": "code",
   "execution_count": 62,
   "metadata": {},
   "outputs": [
    {
     "data": {
      "text/plain": [
       "12"
      ]
     },
     "execution_count": 62,
     "metadata": {},
     "output_type": "execute_result"
    }
   ],
   "source": [
    "\"\"\"2 February 2009 https://eastenders.fandom.com/wiki/2_February_2009\n",
    "3 February 2009 https://eastenders.fandom.com/wiki/3_February_2009\n",
    "5 February 2009 https://eastenders.fandom.com/wiki/5_February_2009\n",
    "6 February 2009 https://eastenders.fandom.com/wiki/6_February_2009\n",
    "9 February 2009 https://eastenders.fandom.com/wiki/9_February_2009\n",
    "10 February 2009 https://eastenders.fandom.com/wiki/10_February_2009\n",
    "12 February 2009 https://eastenders.fandom.com/wiki/12_February_2009\n",
    "13 February 2009 https://eastenders.fandom.com/wiki/13_February_2009\n",
    "16 February 2009 https://eastenders.fandom.com/wiki/16_February_2009\n",
    "17 February 2009 https://eastenders.fandom.com/wiki/17_February_2009\n",
    "19 February 2009 https://eastenders.fandom.com/wiki/19_February_2009\n",
    "20 February 2009 https://eastenders.fandom.com/wiki/20_February_2009\n",
    "\"\"\".count('https')"
   ]
  },
  {
   "cell_type": "code",
   "execution_count": null,
   "metadata": {},
   "outputs": [],
   "source": []
  }
 ],
 "metadata": {
  "kernelspec": {
   "display_name": "Python 3",
   "language": "python",
   "name": "python3"
  },
  "language_info": {
   "codemirror_mode": {
    "name": "ipython",
    "version": 3
   },
   "file_extension": ".py",
   "mimetype": "text/x-python",
   "name": "python",
   "nbconvert_exporter": "python",
   "pygments_lexer": "ipython3",
   "version": "3.7.4"
  }
 },
 "nbformat": 4,
 "nbformat_minor": 2
}
